{
 "cells": [
  {
   "cell_type": "code",
   "execution_count": 32,
   "metadata": {},
   "outputs": [],
   "source": [
    "#여러가지 형태소 분석기가 있다\n",
    "from konlpy.tag import Hannanum #형태소 나눠주는 것\n",
    "from konlpy.tag import Okt #각 형태소 별로 분류(Tagging 작업)"
   ]
  },
  {
   "cell_type": "code",
   "execution_count": 3,
   "metadata": {},
   "outputs": [],
   "source": [
    "import pandas as pd\n",
    "from sklearn.feature_extraction.text import CountVectorizer"
   ]
  },
  {
   "cell_type": "code",
   "execution_count": 4,
   "metadata": {},
   "outputs": [],
   "source": [
    "import numpy as np\n",
    "import pandas as pd\n",
    "import io\n",
    "import re"
   ]
  },
  {
   "cell_type": "code",
   "execution_count": 57,
   "metadata": {},
   "outputs": [
    {
     "data": {
      "text/html": [
       "<div>\n",
       "<style scoped>\n",
       "    .dataframe tbody tr th:only-of-type {\n",
       "        vertical-align: middle;\n",
       "    }\n",
       "\n",
       "    .dataframe tbody tr th {\n",
       "        vertical-align: top;\n",
       "    }\n",
       "\n",
       "    .dataframe thead th {\n",
       "        text-align: right;\n",
       "    }\n",
       "</style>\n",
       "<table border=\"1\" class=\"dataframe\">\n",
       "  <thead>\n",
       "    <tr style=\"text-align: right;\">\n",
       "      <th></th>\n",
       "      <th>create_date</th>\n",
       "      <th>location_id</th>\n",
       "      <th>location_name</th>\n",
       "      <th>md101_sn</th>\n",
       "      <th>msg</th>\n",
       "      <th>send_platform</th>\n",
       "    </tr>\n",
       "  </thead>\n",
       "  <tbody>\n",
       "    <tr>\n",
       "      <th>0</th>\n",
       "      <td>2022/03/08 13:54:33</td>\n",
       "      <td>84</td>\n",
       "      <td>경상북도 성주군</td>\n",
       "      <td>146496</td>\n",
       "      <td>[성주군] ▲3.8.(화) 코로나19 확진자 67명(관내56,타지역11) 발생▲마스...</td>\n",
       "      <td>cbs</td>\n",
       "    </tr>\n",
       "    <tr>\n",
       "      <th>1</th>\n",
       "      <td>2022/03/08 13:43:49</td>\n",
       "      <td>85</td>\n",
       "      <td>경상북도 안동시</td>\n",
       "      <td>146495</td>\n",
       "      <td>[안동시청] 관내 강한 바람으로 인해 대형 산불 발생 위험이 매우 높습니다. 산림 ...</td>\n",
       "      <td>cbs</td>\n",
       "    </tr>\n",
       "    <tr>\n",
       "      <th>2</th>\n",
       "      <td>2022/03/08 13:17:44</td>\n",
       "      <td>195</td>\n",
       "      <td>전라남도 완도군</td>\n",
       "      <td>146494</td>\n",
       "      <td>[완도군청] 목욕탕, 사우나 등 다중이용시설 확진자 급속확산 중 ▶KF마스크 착용,...</td>\n",
       "      <td>cbs</td>\n",
       "    </tr>\n",
       "    <tr>\n",
       "      <th>3</th>\n",
       "      <td>2022/03/08 13:10:43</td>\n",
       "      <td>212</td>\n",
       "      <td>전라북도 임실군</td>\n",
       "      <td>146493</td>\n",
       "      <td>[임실군청] 3.8.(화) 13시 기준 확진자 135명 발생 / 개인 방역수칙 준수...</td>\n",
       "      <td>cbs</td>\n",
       "    </tr>\n",
       "    <tr>\n",
       "      <th>4</th>\n",
       "      <td>2022/03/08 13:08:00</td>\n",
       "      <td>214</td>\n",
       "      <td>전라북도 전주시</td>\n",
       "      <td>146492</td>\n",
       "      <td>[전주시청]3.8(화) 현재기준 2,731명 발생(전일 2,577명) O방역수칙 준...</td>\n",
       "      <td>cbs</td>\n",
       "    </tr>\n",
       "  </tbody>\n",
       "</table>\n",
       "</div>"
      ],
      "text/plain": [
       "           create_date  location_id location_name  md101_sn  \\\n",
       "0  2022/03/08 13:54:33           84      경상북도 성주군    146496   \n",
       "1  2022/03/08 13:43:49           85      경상북도 안동시    146495   \n",
       "2  2022/03/08 13:17:44          195      전라남도 완도군    146494   \n",
       "3  2022/03/08 13:10:43          212      전라북도 임실군    146493   \n",
       "4  2022/03/08 13:08:00          214      전라북도 전주시    146492   \n",
       "\n",
       "                                                 msg send_platform  \n",
       "0  [성주군] ▲3.8.(화) 코로나19 확진자 67명(관내56,타지역11) 발생▲마스...           cbs  \n",
       "1  [안동시청] 관내 강한 바람으로 인해 대형 산불 발생 위험이 매우 높습니다. 산림 ...           cbs  \n",
       "2  [완도군청] 목욕탕, 사우나 등 다중이용시설 확진자 급속확산 중 ▶KF마스크 착용,...           cbs  \n",
       "3  [임실군청] 3.8.(화) 13시 기준 확진자 135명 발생 / 개인 방역수칙 준수...           cbs  \n",
       "4  [전주시청]3.8(화) 현재기준 2,731명 발생(전일 2,577명) O방역수칙 준...           cbs  "
      ]
     },
     "execution_count": 57,
     "metadata": {},
     "output_type": "execute_result"
    }
   ],
   "source": [
    "data = pd.read_csv('C:/Users/seon/data2.csv')\n",
    "data.head()"
   ]
  },
  {
   "cell_type": "code",
   "execution_count": 58,
   "metadata": {},
   "outputs": [
    {
     "data": {
      "text/html": [
       "<div>\n",
       "<style scoped>\n",
       "    .dataframe tbody tr th:only-of-type {\n",
       "        vertical-align: middle;\n",
       "    }\n",
       "\n",
       "    .dataframe tbody tr th {\n",
       "        vertical-align: top;\n",
       "    }\n",
       "\n",
       "    .dataframe thead th {\n",
       "        text-align: right;\n",
       "    }\n",
       "</style>\n",
       "<table border=\"1\" class=\"dataframe\">\n",
       "  <thead>\n",
       "    <tr style=\"text-align: right;\">\n",
       "      <th></th>\n",
       "      <th>msg</th>\n",
       "    </tr>\n",
       "  </thead>\n",
       "  <tbody>\n",
       "    <tr>\n",
       "      <th>0</th>\n",
       "      <td>[성주군] ▲3.8.(화) 코로나19 확진자 67명(관내56,타지역11) 발생▲마스...</td>\n",
       "    </tr>\n",
       "    <tr>\n",
       "      <th>1</th>\n",
       "      <td>[안동시청] 관내 강한 바람으로 인해 대형 산불 발생 위험이 매우 높습니다. 산림 ...</td>\n",
       "    </tr>\n",
       "    <tr>\n",
       "      <th>2</th>\n",
       "      <td>[완도군청] 목욕탕, 사우나 등 다중이용시설 확진자 급속확산 중 ▶KF마스크 착용,...</td>\n",
       "    </tr>\n",
       "    <tr>\n",
       "      <th>3</th>\n",
       "      <td>[임실군청] 3.8.(화) 13시 기준 확진자 135명 발생 / 개인 방역수칙 준수...</td>\n",
       "    </tr>\n",
       "    <tr>\n",
       "      <th>4</th>\n",
       "      <td>[전주시청]3.8(화) 현재기준 2,731명 발생(전일 2,577명) O방역수칙 준...</td>\n",
       "    </tr>\n",
       "  </tbody>\n",
       "</table>\n",
       "</div>"
      ],
      "text/plain": [
       "                                                 msg\n",
       "0  [성주군] ▲3.8.(화) 코로나19 확진자 67명(관내56,타지역11) 발생▲마스...\n",
       "1  [안동시청] 관내 강한 바람으로 인해 대형 산불 발생 위험이 매우 높습니다. 산림 ...\n",
       "2  [완도군청] 목욕탕, 사우나 등 다중이용시설 확진자 급속확산 중 ▶KF마스크 착용,...\n",
       "3  [임실군청] 3.8.(화) 13시 기준 확진자 135명 발생 / 개인 방역수칙 준수...\n",
       "4  [전주시청]3.8(화) 현재기준 2,731명 발생(전일 2,577명) O방역수칙 준..."
      ]
     },
     "execution_count": 58,
     "metadata": {},
     "output_type": "execute_result"
    }
   ],
   "source": [
    "cbs = data[['msg']]\n",
    "data.filter(['msg'])\n",
    "cbs.head()"
   ]
  },
  {
   "cell_type": "code",
   "execution_count": 59,
   "metadata": {},
   "outputs": [
    {
     "name": "stdout",
     "output_type": "stream",
     "text": [
      "[성주군] ▲3.8.(화) 코로나19 확진자 67명(관내56,타지역11) 발생▲마스크착용 철저▲타지역방문 및 모임 자제▲유증상시 즉시 검사\n"
     ]
    }
   ],
   "source": [
    "a = cbs.loc[0,'msg']\n",
    "print(a)"
   ]
  },
  {
   "cell_type": "code",
   "execution_count": 60,
   "metadata": {},
   "outputs": [],
   "source": [
    "def tokenizer(row):\n",
    "    return tagger.nouns(row)"
   ]
  },
  {
   "cell_type": "code",
   "execution_count": 54,
   "metadata": {},
   "outputs": [
    {
     "data": {
      "text/html": [
       "<div>\n",
       "<style scoped>\n",
       "    .dataframe tbody tr th:only-of-type {\n",
       "        vertical-align: middle;\n",
       "    }\n",
       "\n",
       "    .dataframe tbody tr th {\n",
       "        vertical-align: top;\n",
       "    }\n",
       "\n",
       "    .dataframe thead th {\n",
       "        text-align: right;\n",
       "    }\n",
       "</style>\n",
       "<table border=\"1\" class=\"dataframe\">\n",
       "  <thead>\n",
       "    <tr style=\"text-align: right;\">\n",
       "      <th></th>\n",
       "      <th>create_date</th>\n",
       "      <th>location_id</th>\n",
       "      <th>location_name</th>\n",
       "      <th>md101_sn</th>\n",
       "      <th>msg</th>\n",
       "      <th>send_platform</th>\n",
       "      <th>keyword</th>\n",
       "    </tr>\n",
       "  </thead>\n",
       "  <tbody>\n",
       "    <tr>\n",
       "      <th>0</th>\n",
       "      <td>2022/03/08 13:54:33</td>\n",
       "      <td>84</td>\n",
       "      <td>경상북도 성주군</td>\n",
       "      <td>146496</td>\n",
       "      <td>[성주군] ▲3.8.(화) 코로나19 확진자 67명(관내56,타지역11) 발생▲마스...</td>\n",
       "      <td>cbs</td>\n",
       "      <td>[성주군, 화, 코로나, 확, 진자, 명, 관내, 지역, 발생, 마스크, 착용, 철...</td>\n",
       "    </tr>\n",
       "    <tr>\n",
       "      <th>1</th>\n",
       "      <td>2022/03/08 13:43:49</td>\n",
       "      <td>85</td>\n",
       "      <td>경상북도 안동시</td>\n",
       "      <td>146495</td>\n",
       "      <td>[안동시청] 관내 강한 바람으로 인해 대형 산불 발생 위험이 매우 높습니다. 산림 ...</td>\n",
       "      <td>cbs</td>\n",
       "      <td>[안동시청, 관내, 바람, 대형, 산불, 발생, 위험, 매우, 산림, 인접, 소각,...</td>\n",
       "    </tr>\n",
       "  </tbody>\n",
       "</table>\n",
       "</div>"
      ],
      "text/plain": [
       "           create_date  location_id location_name  md101_sn  \\\n",
       "0  2022/03/08 13:54:33           84      경상북도 성주군    146496   \n",
       "1  2022/03/08 13:43:49           85      경상북도 안동시    146495   \n",
       "\n",
       "                                                 msg send_platform  \\\n",
       "0  [성주군] ▲3.8.(화) 코로나19 확진자 67명(관내56,타지역11) 발생▲마스...           cbs   \n",
       "1  [안동시청] 관내 강한 바람으로 인해 대형 산불 발생 위험이 매우 높습니다. 산림 ...           cbs   \n",
       "\n",
       "                                             keyword  \n",
       "0  [성주군, 화, 코로나, 확, 진자, 명, 관내, 지역, 발생, 마스크, 착용, 철...  \n",
       "1  [안동시청, 관내, 바람, 대형, 산불, 발생, 위험, 매우, 산림, 인접, 소각,...  "
      ]
     },
     "execution_count": 54,
     "metadata": {},
     "output_type": "execute_result"
    }
   ],
   "source": [
    "data['keyword'] = data['msg'].apply(tokenizer)\n",
    "data.head(2)"
   ]
  },
  {
   "cell_type": "code",
   "execution_count": 65,
   "metadata": {},
   "outputs": [
    {
     "name": "stdout",
     "output_type": "stream",
     "text": [
      "['안동시청', '관내', '바람', '대형', '산불', '발생', '위험', '매우', '산림', '인접', '소각', '금지', '재', '처리', '주의', '입산', '시', '흡연', '금지', '등', '산불', '예방', '협조', '완도군청', '목욕탕', '사우나', '등', '다중', '이용', '시설', '확', '진자', '급속', '확산', '중', '마스크', '착용', '외출', '자제', '이동', '동선', '최소', '증상', '시', '자가진단', '검사', '임실군', '청', '화', '기준', '확', '진자', '명', '발생', '개인', '방역', '칙', '준수', '지역', '방문', '자제', '유증', '시', '즉시', '검사', '전주', '시청', '화', '현재', '기준', '명', '발생', '전일', '명', '방역', '칙', '준수', '의심', '증상', '선', '진료', '소', '방문', '검사', '재택', '치료', '안내', '나주', '시청', '수', '대통령선거', '투표소', '방문', '시', '줄', '간격', '유지', '등', '방역', '칙', '준수', '확', '진자', '방문', '보건소', '발송', '문자', '시후', '투표', '전남도청', '최근', '전국', '산불', '건', '발생', '산', '흡연', '산림', '주변', '담뱃불', '투기', '절대', '금지', '논', '밭', '두렁', '영농', '부산물', '등', '소각', '금지', '화재', '시', '먼저', '신고', '속초', '시청', '월', '명', '확진', '속초', '시민', '지역', '개인', '방역', '철저', '증상', '의심', '시', '선', '진료', '소', '방문', '밀양', '시청', '현재', '우리', '시', '건조', '경보', '발효', '농업', '부산물', '금지', '입산', '시', '화', '기물', '소지', '맙시', '산불', '예방', '시민', '여러분', '절대', '협조', '당부', '익산', '시청', '세', '이하', '소아', '청소년', '확', '진자', '계속', '증가', '외출', '자제', '마스크', '상', '착용', '수시', '환기', '손씻기', '등', '방역', '칙', '준수']\n"
     ]
    }
   ],
   "source": [
    "if __name__=='__main__':\n",
    "    tagger=Okt()\n",
    "    noun_list = []\n",
    "    for i in range(1,10):\n",
    "        noun_list += tagger.nouns(cbs.loc[i,'msg'])\n",
    "    print(noun_list) #리스트 형식으로 출력\n",
    "    #keyword만 따로 열 만들어서 추가\n",
    "    data['keyword'] = data['msg'].apply(tokenizer)"
   ]
  },
  {
   "cell_type": "code",
   "execution_count": 67,
   "metadata": {},
   "outputs": [
    {
     "data": {
      "text/html": [
       "<div>\n",
       "<style scoped>\n",
       "    .dataframe tbody tr th:only-of-type {\n",
       "        vertical-align: middle;\n",
       "    }\n",
       "\n",
       "    .dataframe tbody tr th {\n",
       "        vertical-align: top;\n",
       "    }\n",
       "\n",
       "    .dataframe thead th {\n",
       "        text-align: right;\n",
       "    }\n",
       "</style>\n",
       "<table border=\"1\" class=\"dataframe\">\n",
       "  <thead>\n",
       "    <tr style=\"text-align: right;\">\n",
       "      <th></th>\n",
       "      <th>create_date</th>\n",
       "      <th>location_id</th>\n",
       "      <th>location_name</th>\n",
       "      <th>md101_sn</th>\n",
       "      <th>msg</th>\n",
       "      <th>send_platform</th>\n",
       "      <th>keyword</th>\n",
       "    </tr>\n",
       "  </thead>\n",
       "  <tbody>\n",
       "    <tr>\n",
       "      <th>0</th>\n",
       "      <td>2022/03/08 13:54:33</td>\n",
       "      <td>84</td>\n",
       "      <td>경상북도 성주군</td>\n",
       "      <td>146496</td>\n",
       "      <td>[성주군] ▲3.8.(화) 코로나19 확진자 67명(관내56,타지역11) 발생▲마스...</td>\n",
       "      <td>cbs</td>\n",
       "      <td>[성주군, 화, 코로나, 확, 진자, 명, 관내, 지역, 발생, 마스크, 착용, 철...</td>\n",
       "    </tr>\n",
       "    <tr>\n",
       "      <th>1</th>\n",
       "      <td>2022/03/08 13:43:49</td>\n",
       "      <td>85</td>\n",
       "      <td>경상북도 안동시</td>\n",
       "      <td>146495</td>\n",
       "      <td>[안동시청] 관내 강한 바람으로 인해 대형 산불 발생 위험이 매우 높습니다. 산림 ...</td>\n",
       "      <td>cbs</td>\n",
       "      <td>[안동시청, 관내, 바람, 대형, 산불, 발생, 위험, 매우, 산림, 인접, 소각,...</td>\n",
       "    </tr>\n",
       "    <tr>\n",
       "      <th>2</th>\n",
       "      <td>2022/03/08 13:17:44</td>\n",
       "      <td>195</td>\n",
       "      <td>전라남도 완도군</td>\n",
       "      <td>146494</td>\n",
       "      <td>[완도군청] 목욕탕, 사우나 등 다중이용시설 확진자 급속확산 중 ▶KF마스크 착용,...</td>\n",
       "      <td>cbs</td>\n",
       "      <td>[완도군청, 목욕탕, 사우나, 등, 다중, 이용, 시설, 확, 진자, 급속, 확산,...</td>\n",
       "    </tr>\n",
       "    <tr>\n",
       "      <th>3</th>\n",
       "      <td>2022/03/08 13:10:43</td>\n",
       "      <td>212</td>\n",
       "      <td>전라북도 임실군</td>\n",
       "      <td>146493</td>\n",
       "      <td>[임실군청] 3.8.(화) 13시 기준 확진자 135명 발생 / 개인 방역수칙 준수...</td>\n",
       "      <td>cbs</td>\n",
       "      <td>[임실군, 청, 화, 기준, 확, 진자, 명, 발생, 개인, 방역, 칙, 준수, 지...</td>\n",
       "    </tr>\n",
       "    <tr>\n",
       "      <th>4</th>\n",
       "      <td>2022/03/08 13:08:00</td>\n",
       "      <td>214</td>\n",
       "      <td>전라북도 전주시</td>\n",
       "      <td>146492</td>\n",
       "      <td>[전주시청]3.8(화) 현재기준 2,731명 발생(전일 2,577명) O방역수칙 준...</td>\n",
       "      <td>cbs</td>\n",
       "      <td>[전주, 시청, 화, 현재, 기준, 명, 발생, 전일, 명, 방역, 칙, 준수, 의...</td>\n",
       "    </tr>\n",
       "  </tbody>\n",
       "</table>\n",
       "</div>"
      ],
      "text/plain": [
       "           create_date  location_id location_name  md101_sn  \\\n",
       "0  2022/03/08 13:54:33           84      경상북도 성주군    146496   \n",
       "1  2022/03/08 13:43:49           85      경상북도 안동시    146495   \n",
       "2  2022/03/08 13:17:44          195      전라남도 완도군    146494   \n",
       "3  2022/03/08 13:10:43          212      전라북도 임실군    146493   \n",
       "4  2022/03/08 13:08:00          214      전라북도 전주시    146492   \n",
       "\n",
       "                                                 msg send_platform  \\\n",
       "0  [성주군] ▲3.8.(화) 코로나19 확진자 67명(관내56,타지역11) 발생▲마스...           cbs   \n",
       "1  [안동시청] 관내 강한 바람으로 인해 대형 산불 발생 위험이 매우 높습니다. 산림 ...           cbs   \n",
       "2  [완도군청] 목욕탕, 사우나 등 다중이용시설 확진자 급속확산 중 ▶KF마스크 착용,...           cbs   \n",
       "3  [임실군청] 3.8.(화) 13시 기준 확진자 135명 발생 / 개인 방역수칙 준수...           cbs   \n",
       "4  [전주시청]3.8(화) 현재기준 2,731명 발생(전일 2,577명) O방역수칙 준...           cbs   \n",
       "\n",
       "                                             keyword  \n",
       "0  [성주군, 화, 코로나, 확, 진자, 명, 관내, 지역, 발생, 마스크, 착용, 철...  \n",
       "1  [안동시청, 관내, 바람, 대형, 산불, 발생, 위험, 매우, 산림, 인접, 소각,...  \n",
       "2  [완도군청, 목욕탕, 사우나, 등, 다중, 이용, 시설, 확, 진자, 급속, 확산,...  \n",
       "3  [임실군, 청, 화, 기준, 확, 진자, 명, 발생, 개인, 방역, 칙, 준수, 지...  \n",
       "4  [전주, 시청, 화, 현재, 기준, 명, 발생, 전일, 명, 방역, 칙, 준수, 의...  "
      ]
     },
     "execution_count": 67,
     "metadata": {},
     "output_type": "execute_result"
    }
   ],
   "source": [
    "data.head(5)"
   ]
  },
  {
   "cell_type": "code",
   "execution_count": 97,
   "metadata": {},
   "outputs": [
    {
     "data": {
      "text/html": [
       "<div>\n",
       "<style scoped>\n",
       "    .dataframe tbody tr th:only-of-type {\n",
       "        vertical-align: middle;\n",
       "    }\n",
       "\n",
       "    .dataframe tbody tr th {\n",
       "        vertical-align: top;\n",
       "    }\n",
       "\n",
       "    .dataframe thead th {\n",
       "        text-align: right;\n",
       "    }\n",
       "</style>\n",
       "<table border=\"1\" class=\"dataframe\">\n",
       "  <thead>\n",
       "    <tr style=\"text-align: right;\">\n",
       "      <th></th>\n",
       "      <th>create_date</th>\n",
       "      <th>location_id</th>\n",
       "      <th>location_name</th>\n",
       "      <th>md101_sn</th>\n",
       "      <th>msg</th>\n",
       "      <th>send_platform</th>\n",
       "    </tr>\n",
       "  </thead>\n",
       "  <tbody>\n",
       "    <tr>\n",
       "      <th>0</th>\n",
       "      <td>2022/03/08 13:54:33</td>\n",
       "      <td>84</td>\n",
       "      <td>경상북도 성주군</td>\n",
       "      <td>146496</td>\n",
       "      <td>[성주군] ▲3.8.(화) 코로나19 확진자 67명(관내56,타지역11) 발생▲마스...</td>\n",
       "      <td>cbs</td>\n",
       "    </tr>\n",
       "    <tr>\n",
       "      <th>1</th>\n",
       "      <td>2022/03/08 13:43:49</td>\n",
       "      <td>85</td>\n",
       "      <td>경상북도 안동시</td>\n",
       "      <td>146495</td>\n",
       "      <td>[안동시청] 관내 강한 바람으로 인해 대형 산불 발생 위험이 매우 높습니다. 산림 ...</td>\n",
       "      <td>cbs</td>\n",
       "    </tr>\n",
       "    <tr>\n",
       "      <th>2</th>\n",
       "      <td>2022/03/08 13:17:44</td>\n",
       "      <td>195</td>\n",
       "      <td>전라남도 완도군</td>\n",
       "      <td>146494</td>\n",
       "      <td>[완도군청] 목욕탕, 사우나 등 다중이용시설 확진자 급속확산 중 ▶KF마스크 착용,...</td>\n",
       "      <td>cbs</td>\n",
       "    </tr>\n",
       "    <tr>\n",
       "      <th>3</th>\n",
       "      <td>2022/03/08 13:10:43</td>\n",
       "      <td>212</td>\n",
       "      <td>전라북도 임실군</td>\n",
       "      <td>146493</td>\n",
       "      <td>[임실군청] 3.8.(화) 13시 기준 확진자 135명 발생 / 개인 방역수칙 준수...</td>\n",
       "      <td>cbs</td>\n",
       "    </tr>\n",
       "    <tr>\n",
       "      <th>4</th>\n",
       "      <td>2022/03/08 13:08:00</td>\n",
       "      <td>214</td>\n",
       "      <td>전라북도 전주시</td>\n",
       "      <td>146492</td>\n",
       "      <td>[전주시청]3.8(화) 현재기준 2,731명 발생(전일 2,577명) O방역수칙 준...</td>\n",
       "      <td>cbs</td>\n",
       "    </tr>\n",
       "  </tbody>\n",
       "</table>\n",
       "</div>"
      ],
      "text/plain": [
       "           create_date  location_id location_name  md101_sn  \\\n",
       "0  2022/03/08 13:54:33           84      경상북도 성주군    146496   \n",
       "1  2022/03/08 13:43:49           85      경상북도 안동시    146495   \n",
       "2  2022/03/08 13:17:44          195      전라남도 완도군    146494   \n",
       "3  2022/03/08 13:10:43          212      전라북도 임실군    146493   \n",
       "4  2022/03/08 13:08:00          214      전라북도 전주시    146492   \n",
       "\n",
       "                                                 msg send_platform  \n",
       "0  [성주군] ▲3.8.(화) 코로나19 확진자 67명(관내56,타지역11) 발생▲마스...           cbs  \n",
       "1  [안동시청] 관내 강한 바람으로 인해 대형 산불 발생 위험이 매우 높습니다. 산림 ...           cbs  \n",
       "2  [완도군청] 목욕탕, 사우나 등 다중이용시설 확진자 급속확산 중 ▶KF마스크 착용,...           cbs  \n",
       "3  [임실군청] 3.8.(화) 13시 기준 확진자 135명 발생 / 개인 방역수칙 준수...           cbs  \n",
       "4  [전주시청]3.8(화) 현재기준 2,731명 발생(전일 2,577명) O방역수칙 준...           cbs  "
      ]
     },
     "execution_count": 97,
     "metadata": {},
     "output_type": "execute_result"
    }
   ],
   "source": [
    "data = pd.read_csv('C:/Users/seon/data2.csv')\n",
    "data.head()"
   ]
  },
  {
   "cell_type": "code",
   "execution_count": 100,
   "metadata": {},
   "outputs": [
    {
     "name": "stderr",
     "output_type": "stream",
     "text": [
      "C:\\Users\\seon\\Anaconda3\\lib\\site-packages\\ipykernel_launcher.py:6: SettingWithCopyWarning: \n",
      "A value is trying to be set on a copy of a slice from a DataFrame.\n",
      "Try using .loc[row_indexer,col_indexer] = value instead\n",
      "\n",
      "See the caveats in the documentation: https://pandas.pydata.org/pandas-docs/stable/user_guide/indexing.html#returning-a-view-versus-a-copy\n",
      "  \n"
     ]
    },
    {
     "data": {
      "text/html": [
       "<div>\n",
       "<style scoped>\n",
       "    .dataframe tbody tr th:only-of-type {\n",
       "        vertical-align: middle;\n",
       "    }\n",
       "\n",
       "    .dataframe tbody tr th {\n",
       "        vertical-align: top;\n",
       "    }\n",
       "\n",
       "    .dataframe thead th {\n",
       "        text-align: right;\n",
       "    }\n",
       "</style>\n",
       "<table border=\"1\" class=\"dataframe\">\n",
       "  <thead>\n",
       "    <tr style=\"text-align: right;\">\n",
       "      <th></th>\n",
       "      <th>msg</th>\n",
       "      <th>keyword</th>\n",
       "    </tr>\n",
       "  </thead>\n",
       "  <tbody>\n",
       "    <tr>\n",
       "      <th>0</th>\n",
       "      <td>[영동군청]확진 159명(확진자접촉 56, 증상발현 101, 무증상 2)발생▲유증상...</td>\n",
       "      <td>[성주군, 화, 코로나, 확, 진자, 명, 관내, 지역, 발생, 마스크, 착용, 철...</td>\n",
       "    </tr>\n",
       "    <tr>\n",
       "      <th>1</th>\n",
       "      <td>[통영시청] 3.4.(금) 확진자559명(7277~7835번)발생▲타지방문·사적모임...</td>\n",
       "      <td>[안동시청, 관내, 바람, 대형, 산불, 발생, 위험, 매우, 산림, 인접, 소각,...</td>\n",
       "    </tr>\n",
       "    <tr>\n",
       "      <th>2</th>\n",
       "      <td>[보성군] 건조한 날씨로 인해 산불위기경보 “경계” 단계▲산불 발생 위험 높음▲산림...</td>\n",
       "      <td>[완도군청, 목욕탕, 사우나, 등, 다중, 이용, 시설, 확, 진자, 급속, 확산,...</td>\n",
       "    </tr>\n",
       "    <tr>\n",
       "      <th>3</th>\n",
       "      <td>[함평군청] 코로나19 확진자는 3.5.(토) 17시~18시 가까운 투표소에 신분증...</td>\n",
       "      <td>[임실군, 청, 화, 기준, 확, 진자, 명, 발생, 개인, 방역, 칙, 준수, 지...</td>\n",
       "    </tr>\n",
       "    <tr>\n",
       "      <th>4</th>\n",
       "      <td>[함평군청] 대통령선거 사전투표 3.4.(금)~3.5.(토) 06~18시 1m 줄간...</td>\n",
       "      <td>[전주, 시청, 화, 현재, 기준, 명, 발생, 전일, 명, 방역, 칙, 준수, 의...</td>\n",
       "    </tr>\n",
       "    <tr>\n",
       "      <th>5</th>\n",
       "      <td>[거제시청] 확진자1,099명 ▲코로나19관련 재택치료 시 자세한 행동 요령 htt...</td>\n",
       "      <td>[나주, 시청, 수, 대통령선거, 투표소, 방문, 시, 줄, 간격, 유지, 등, 방...</td>\n",
       "    </tr>\n",
       "    <tr>\n",
       "      <th>6</th>\n",
       "      <td>[나주시청] 코로나19 확진자는 3.5.(토)17시~18시 가까운 투표소에 신분증 ...</td>\n",
       "      <td>[전남도청, 최근, 전국, 산불, 건, 발생, 산, 흡연, 산림, 주변, 담뱃불, ...</td>\n",
       "    </tr>\n",
       "    <tr>\n",
       "      <th>7</th>\n",
       "      <td>[나주시청] 대통령선거 사전투표 3.4.(금) ~ 3.5.(토) 06~18시 1m줄...</td>\n",
       "      <td>[속초, 시청, 월, 명, 확진, 속초, 시민, 지역, 개인, 방역, 철저, 증상,...</td>\n",
       "    </tr>\n",
       "    <tr>\n",
       "      <th>8</th>\n",
       "      <td>[해남군청]3월4일 확진자 110명 발생▶3.4(금)~3.5(토) 문화예술회관 다목...</td>\n",
       "      <td>[밀양, 시청, 현재, 우리, 시, 건조, 경보, 발효, 농업, 부산물, 금지, 입...</td>\n",
       "    </tr>\n",
       "    <tr>\n",
       "      <th>9</th>\n",
       "      <td>[영양군청]현재 산불위기경보 경계 단계로 산불 발생 위험이 높으니 주민과 등산객은 ...</td>\n",
       "      <td>[익산, 시청, 세, 이하, 소아, 청소년, 확, 진자, 계속, 증가, 외출, 자제...</td>\n",
       "    </tr>\n",
       "  </tbody>\n",
       "</table>\n",
       "</div>"
      ],
      "text/plain": [
       "                                                 msg  \\\n",
       "0  [영동군청]확진 159명(확진자접촉 56, 증상발현 101, 무증상 2)발생▲유증상...   \n",
       "1  [통영시청] 3.4.(금) 확진자559명(7277~7835번)발생▲타지방문·사적모임...   \n",
       "2  [보성군] 건조한 날씨로 인해 산불위기경보 “경계” 단계▲산불 발생 위험 높음▲산림...   \n",
       "3  [함평군청] 코로나19 확진자는 3.5.(토) 17시~18시 가까운 투표소에 신분증...   \n",
       "4  [함평군청] 대통령선거 사전투표 3.4.(금)~3.5.(토) 06~18시 1m 줄간...   \n",
       "5  [거제시청] 확진자1,099명 ▲코로나19관련 재택치료 시 자세한 행동 요령 htt...   \n",
       "6  [나주시청] 코로나19 확진자는 3.5.(토)17시~18시 가까운 투표소에 신분증 ...   \n",
       "7  [나주시청] 대통령선거 사전투표 3.4.(금) ~ 3.5.(토) 06~18시 1m줄...   \n",
       "8  [해남군청]3월4일 확진자 110명 발생▶3.4(금)~3.5(토) 문화예술회관 다목...   \n",
       "9  [영양군청]현재 산불위기경보 경계 단계로 산불 발생 위험이 높으니 주민과 등산객은 ...   \n",
       "\n",
       "                                             keyword  \n",
       "0  [성주군, 화, 코로나, 확, 진자, 명, 관내, 지역, 발생, 마스크, 착용, 철...  \n",
       "1  [안동시청, 관내, 바람, 대형, 산불, 발생, 위험, 매우, 산림, 인접, 소각,...  \n",
       "2  [완도군청, 목욕탕, 사우나, 등, 다중, 이용, 시설, 확, 진자, 급속, 확산,...  \n",
       "3  [임실군, 청, 화, 기준, 확, 진자, 명, 발생, 개인, 방역, 칙, 준수, 지...  \n",
       "4  [전주, 시청, 화, 현재, 기준, 명, 발생, 전일, 명, 방역, 칙, 준수, 의...  \n",
       "5  [나주, 시청, 수, 대통령선거, 투표소, 방문, 시, 줄, 간격, 유지, 등, 방...  \n",
       "6  [전남도청, 최근, 전국, 산불, 건, 발생, 산, 흡연, 산림, 주변, 담뱃불, ...  \n",
       "7  [속초, 시청, 월, 명, 확진, 속초, 시민, 지역, 개인, 방역, 철저, 증상,...  \n",
       "8  [밀양, 시청, 현재, 우리, 시, 건조, 경보, 발효, 농업, 부산물, 금지, 입...  \n",
       "9  [익산, 시청, 세, 이하, 소아, 청소년, 확, 진자, 계속, 증가, 외출, 자제...  "
      ]
     },
     "execution_count": 100,
     "metadata": {},
     "output_type": "execute_result"
    }
   ],
   "source": [
    "cbs2 = data[['msg']]\n",
    "\n",
    "def tokenizer(row):\n",
    "    return tagger.nouns(row)\n",
    "\n",
    "cbs2['keyword'] = cbs2['msg'].apply(tokenizer)\n",
    "cbs.head(10)"
   ]
  },
  {
   "cell_type": "code",
   "execution_count": 81,
   "metadata": {},
   "outputs": [
    {
     "name": "stdout",
     "output_type": "stream",
     "text": [
      "<FreqDist with 546 samples and 1905 outcomes>\n"
     ]
    }
   ],
   "source": [
    "from nltk.probability import FreqDist\n",
    "fdist = FreqDist(noun_list)\n",
    "print(fdist)"
   ]
  },
  {
   "cell_type": "code",
   "execution_count": 88,
   "metadata": {},
   "outputs": [
    {
     "data": {
      "text/plain": [
       "[('명', 93),\n",
       " ('확', 77),\n",
       " ('진자', 76),\n",
       " ('발생', 66),\n",
       " ('금', 42),\n",
       " ('시청', 34),\n",
       " ('기준', 34),\n",
       " ('준수', 32),\n",
       " ('군청', 32),\n",
       " ('등', 31),\n",
       " ('방역', 31),\n",
       " ('칙', 31),\n",
       " ('지역', 29),\n",
       " ('코로나', 27),\n",
       " ('검사', 25),\n",
       " ('자제', 23),\n",
       " ('마스크', 21),\n",
       " ('시', 21),\n",
       " ('모임', 20),\n",
       " ('착용', 20),\n",
       " ('및', 17),\n",
       " ('방문', 16),\n",
       " ('개인', 15),\n",
       " ('산불', 15),\n",
       " ('관내', 15)]"
      ]
     },
     "execution_count": 88,
     "metadata": {},
     "output_type": "execute_result"
    }
   ],
   "source": [
    "fdist.most_common(25)"
   ]
  },
  {
   "cell_type": "code",
   "execution_count": 83,
   "metadata": {},
   "outputs": [],
   "source": [
    "# 한글 폰트 사용을 위해서 세팅\n",
    "from matplotlib import font_manager, rc\n",
    "font_path = \"C:/Windows/Fonts/NGULIM.TTF\"\n",
    "font = font_manager.FontProperties(fname=font_path).get_name()\n",
    "rc('font', family=font)"
   ]
  },
  {
   "cell_type": "code",
   "execution_count": 84,
   "metadata": {},
   "outputs": [
    {
     "data": {
      "image/png": "[encoded data removed]",
      "text/plain": [
       "<Figure size 432x288 with 1 Axes>"
      ]
     },
     "metadata": {
      "needs_background": "light"
     },
     "output_type": "display_data"
    }
   ],
   "source": [
    "import matplotlib.pyplot as plt\n",
    "fdist.plot(30,cumulative=False)\n",
    "plt.show()"
   ]
  },
  {
   "cell_type": "code",
   "execution_count": null,
   "metadata": {},
   "outputs": [],
   "source": []
  }
 ],
 "metadata": {
  "kernelspec": {
   "display_name": "Python 3",
   "language": "python",
   "name": "python3"
  },
  "language_info": {
   "codemirror_mode": {
    "name": "ipython",
    "version": 3
   },
   "file_extension": ".py",
   "mimetype": "text/x-python",
   "name": "python",
   "nbconvert_exporter": "python",
   "pygments_lexer": "ipython3",
   "version": "3.7.4"
  },
  "toc": {
   "base_numbering": 1,
   "nav_menu": {},
   "number_sections": true,
   "sideBar": true,
   "skip_h1_title": false,
   "title_cell": "Table of Contents",
   "title_sidebar": "Contents",
   "toc_cell": false,
   "toc_position": {},
   "toc_section_display": true,
   "toc_window_display": false
  }
 },
 "nbformat": 4,
 "nbformat_minor": 4
}
