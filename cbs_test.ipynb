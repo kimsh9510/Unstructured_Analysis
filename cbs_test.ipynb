{
 "cells": [
  {
   "cell_type": "code",
   "execution_count": 1,
   "metadata": {},
   "outputs": [
    {
     "data": {
      "text/html": [
       "<div>\n",
       "<style scoped>\n",
       "    .dataframe tbody tr th:only-of-type {\n",
       "        vertical-align: middle;\n",
       "    }\n",
       "\n",
       "    .dataframe tbody tr th {\n",
       "        vertical-align: top;\n",
       "    }\n",
       "\n",
       "    .dataframe thead th {\n",
       "        text-align: right;\n",
       "    }\n",
       "</style>\n",
       "<table border=\"1\" class=\"dataframe\">\n",
       "  <thead>\n",
       "    <tr style=\"text-align: right;\">\n",
       "      <th></th>\n",
       "      <th>create_date</th>\n",
       "      <th>location_id</th>\n",
       "      <th>location_name</th>\n",
       "      <th>md101_sn</th>\n",
       "      <th>msg</th>\n",
       "      <th>send_platform</th>\n",
       "    </tr>\n",
       "  </thead>\n",
       "  <tbody>\n",
       "    <tr>\n",
       "      <th>0</th>\n",
       "      <td>2022/03/04 10:49:33</td>\n",
       "      <td>38</td>\n",
       "      <td>경기도 안양시</td>\n",
       "      <td>145743</td>\n",
       "      <td>[안양시청] ▲ 3.4.(목) 0시 기준 신규확진자 2,290명 발생 ▲18세 이상...</td>\n",
       "      <td>cbs</td>\n",
       "    </tr>\n",
       "    <tr>\n",
       "      <th>1</th>\n",
       "      <td>2022/03/04 10:48:37</td>\n",
       "      <td>193</td>\n",
       "      <td>전라남도 영광군</td>\n",
       "      <td>145742</td>\n",
       "      <td>[영광군청]전일 확진자 중 사업장31%, 소아·청소년32% 발생△의료기관,요양병원·...</td>\n",
       "      <td>cbs</td>\n",
       "    </tr>\n",
       "    <tr>\n",
       "      <th>2</th>\n",
       "      <td>2022/03/04 10:47:12</td>\n",
       "      <td>20</td>\n",
       "      <td>강원도 횡성군</td>\n",
       "      <td>145741</td>\n",
       "      <td>[횡성군청] 3.3.(목) 확진자 148명 발생(누적1,839명) ▲ 사적 모임 및...</td>\n",
       "      <td>cbs</td>\n",
       "    </tr>\n",
       "    <tr>\n",
       "      <th>3</th>\n",
       "      <td>2022/03/04 10:43:22</td>\n",
       "      <td>206</td>\n",
       "      <td>전라북도 남원시</td>\n",
       "      <td>145740</td>\n",
       "      <td>[남원시청]▲3.4.(금)08시기준,확진자294명발생(남원3,596~3,889번)/...</td>\n",
       "      <td>cbs</td>\n",
       "    </tr>\n",
       "    <tr>\n",
       "      <th>4</th>\n",
       "      <td>2022/03/04 10:42:37</td>\n",
       "      <td>231</td>\n",
       "      <td>충청남도 아산시</td>\n",
       "      <td>145739</td>\n",
       "      <td>[아산시청] 3월 3일 확진자 1379명 / 대통령선거 사전투표소 입장 시 마스크를...</td>\n",
       "      <td>cbs</td>\n",
       "    </tr>\n",
       "  </tbody>\n",
       "</table>\n",
       "</div>"
      ],
      "text/plain": [
       "           create_date location_id location_name  md101_sn  \\\n",
       "0  2022/03/04 10:49:33          38       경기도 안양시    145743   \n",
       "1  2022/03/04 10:48:37         193      전라남도 영광군    145742   \n",
       "2  2022/03/04 10:47:12          20       강원도 횡성군    145741   \n",
       "3  2022/03/04 10:43:22         206      전라북도 남원시    145740   \n",
       "4  2022/03/04 10:42:37         231      충청남도 아산시    145739   \n",
       "\n",
       "                                                 msg send_platform  \n",
       "0  [안양시청] ▲ 3.4.(목) 0시 기준 신규확진자 2,290명 발생 ▲18세 이상...           cbs  \n",
       "1  [영광군청]전일 확진자 중 사업장31%, 소아·청소년32% 발생△의료기관,요양병원·...           cbs  \n",
       "2  [횡성군청] 3.3.(목) 확진자 148명 발생(누적1,839명) ▲ 사적 모임 및...           cbs  \n",
       "3  [남원시청]▲3.4.(금)08시기준,확진자294명발생(남원3,596~3,889번)/...           cbs  \n",
       "4  [아산시청] 3월 3일 확진자 1379명 / 대통령선거 사전투표소 입장 시 마스크를...           cbs  "
      ]
     },
     "execution_count": 1,
     "metadata": {},
     "output_type": "execute_result"
    }
   ],
   "source": [
    "import pandas as pd\n",
    "\n",
    "cbs = pd.read_csv('C:/Users/seon/PycharmProjects/cbs_test/data.csv')\n",
    "cbs.head()"
   ]
  },
  {
   "cell_type": "code",
   "execution_count": 2,
   "metadata": {},
   "outputs": [
    {
     "data": {
      "text/html": [
       "<div>\n",
       "<style scoped>\n",
       "    .dataframe tbody tr th:only-of-type {\n",
       "        vertical-align: middle;\n",
       "    }\n",
       "\n",
       "    .dataframe tbody tr th {\n",
       "        vertical-align: top;\n",
       "    }\n",
       "\n",
       "    .dataframe thead th {\n",
       "        text-align: right;\n",
       "    }\n",
       "</style>\n",
       "<table border=\"1\" class=\"dataframe\">\n",
       "  <thead>\n",
       "    <tr style=\"text-align: right;\">\n",
       "      <th></th>\n",
       "      <th>create_date</th>\n",
       "      <th>location_id</th>\n",
       "      <th>location_name</th>\n",
       "      <th>md101_sn</th>\n",
       "      <th>msg</th>\n",
       "      <th>send_platform</th>\n",
       "    </tr>\n",
       "  </thead>\n",
       "  <tbody>\n",
       "    <tr>\n",
       "      <th>115932</th>\n",
       "      <td>2020/03/13 14:15:35</td>\n",
       "      <td>6474</td>\n",
       "      <td>세종특별자치시</td>\n",
       "      <td>29838</td>\n",
       "      <td>[세종시청]추가확진자 ① 35번(40대 남,나성동 세진팰리스), 36번(30대 여,...</td>\n",
       "      <td>cbs</td>\n",
       "    </tr>\n",
       "    <tr>\n",
       "      <th>115933</th>\n",
       "      <td>2020/03/13 14:10:46</td>\n",
       "      <td>15</td>\n",
       "      <td>강원도 춘천시</td>\n",
       "      <td>29837</td>\n",
       "      <td>[춘천시청] 코로나19 예방 및 확산 방지를 위해 예배, 법회, 미사 등 종교행사와...</td>\n",
       "      <td>cbs</td>\n",
       "    </tr>\n",
       "    <tr>\n",
       "      <th>115934</th>\n",
       "      <td>2020/03/13 14:02:44</td>\n",
       "      <td>6474</td>\n",
       "      <td>세종특별자치시</td>\n",
       "      <td>29836</td>\n",
       "      <td>[세종시청]31~34번 확진자 동선은 시 홈페이지, 밴드, 포스트( naver.me...</td>\n",
       "      <td>cbs</td>\n",
       "    </tr>\n",
       "    <tr>\n",
       "      <th>115935</th>\n",
       "      <td>2020/03/13 13:47:45</td>\n",
       "      <td>8</td>\n",
       "      <td>강원도 양구군</td>\n",
       "      <td>29835</td>\n",
       "      <td>[양구군청]약국 마스크 판매시간 안내 약국-평일 오후 3시부터 판매시작(경동약국 제...</td>\n",
       "      <td>cbs</td>\n",
       "    </tr>\n",
       "    <tr>\n",
       "      <th>115936</th>\n",
       "      <td>2020/03/13 13:46:51</td>\n",
       "      <td>55</td>\n",
       "      <td>경상남도 거창군</td>\n",
       "      <td>29834</td>\n",
       "      <td>[거창군보건소] 약국 공적마스크 판매시간 안내(3/13) 16시(2)~ 행복한,한들...</td>\n",
       "      <td>cbs</td>\n",
       "    </tr>\n",
       "  </tbody>\n",
       "</table>\n",
       "</div>"
      ],
      "text/plain": [
       "                create_date location_id location_name  md101_sn  \\\n",
       "115932  2020/03/13 14:15:35        6474       세종특별자치시     29838   \n",
       "115933  2020/03/13 14:10:46          15       강원도 춘천시     29837   \n",
       "115934  2020/03/13 14:02:44        6474       세종특별자치시     29836   \n",
       "115935  2020/03/13 13:47:45           8       강원도 양구군     29835   \n",
       "115936  2020/03/13 13:46:51          55      경상남도 거창군     29834   \n",
       "\n",
       "                                                      msg send_platform  \n",
       "115932  [세종시청]추가확진자 ① 35번(40대 남,나성동 세진팰리스), 36번(30대 여,...           cbs  \n",
       "115933  [춘천시청] 코로나19 예방 및 확산 방지를 위해 예배, 법회, 미사 등 종교행사와...           cbs  \n",
       "115934  [세종시청]31~34번 확진자 동선은 시 홈페이지, 밴드, 포스트( naver.me...           cbs  \n",
       "115935  [양구군청]약국 마스크 판매시간 안내 약국-평일 오후 3시부터 판매시작(경동약국 제...           cbs  \n",
       "115936  [거창군보건소] 약국 공적마스크 판매시간 안내(3/13) 16시(2)~ 행복한,한들...           cbs  "
      ]
     },
     "execution_count": 2,
     "metadata": {},
     "output_type": "execute_result"
    }
   ],
   "source": [
    "cbs.tail()"
   ]
  },
  {
   "cell_type": "code",
   "execution_count": 3,
   "metadata": {},
   "outputs": [
    {
     "data": {
      "text/plain": [
       "0"
      ]
     },
     "execution_count": 3,
     "metadata": {},
     "output_type": "execute_result"
    }
   ],
   "source": [
    "cbs['create_date'].isnull().sum()"
   ]
  },
  {
   "cell_type": "code",
   "execution_count": 6,
   "metadata": {},
   "outputs": [
    {
     "data": {
      "text/plain": [
       "0    False\n",
       "1    False\n",
       "2    False\n",
       "3    False\n",
       "4    False\n",
       "Name: create_date, dtype: bool"
      ]
     },
     "execution_count": 6,
     "metadata": {},
     "output_type": "execute_result"
    }
   ],
   "source": [
    "cbs['create_date'].duplicated().head()"
   ]
  },
  {
   "cell_type": "code",
   "execution_count": 7,
   "metadata": {},
   "outputs": [
    {
     "data": {
      "text/plain": [
       "create_date      0\n",
       "location_id      0\n",
       "location_name    0\n",
       "md101_sn         0\n",
       "msg              0\n",
       "send_platform    0\n",
       "dtype: int64"
      ]
     },
     "execution_count": 7,
     "metadata": {},
     "output_type": "execute_result"
    }
   ],
   "source": [
    "cbs.isnull().sum().head(13)"
   ]
  },
  {
   "cell_type": "code",
   "execution_count": null,
   "metadata": {},
   "outputs": [],
   "source": []
  }
 ],
 "metadata": {
  "kernelspec": {
   "display_name": "Python 3",
   "language": "python",
   "name": "python3"
  },
  "language_info": {
   "codemirror_mode": {
    "name": "ipython",
    "version": 3
   },
   "file_extension": ".py",
   "mimetype": "text/x-python",
   "name": "python",
   "nbconvert_exporter": "python",
   "pygments_lexer": "ipython3",
   "version": "3.7.4"
  },
  "toc": {
   "base_numbering": 1,
   "nav_menu": {},
   "number_sections": true,
   "sideBar": true,
   "skip_h1_title": false,
   "title_cell": "Table of Contents",
   "title_sidebar": "Contents",
   "toc_cell": false,
   "toc_position": {},
   "toc_section_display": true,
   "toc_window_display": false
  }
 },
 "nbformat": 4,
 "nbformat_minor": 4
}
