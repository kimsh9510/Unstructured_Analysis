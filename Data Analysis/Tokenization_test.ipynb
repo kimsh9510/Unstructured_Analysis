{
 "cells": [
  {
   "cell_type": "code",
   "execution_count": 8,
   "metadata": {},
   "outputs": [
    {
     "name": "stdout",
     "output_type": "stream",
     "text": [
      "Requirement already satisfied: nltk in c:\\users\\seon\\anaconda3\\lib\\site-packages (3.5)"
     ]
    },
    {
     "name": "stderr",
     "output_type": "stream",
     "text": [
      "WARNING: Ignoring invalid distribution - (c:\\users\\seon\\appdata\\roaming\\python\\python37\\site-packages)\n",
      "WARNING: Ignoring invalid distribution -ensorflow-gpu (c:\\users\\seon\\appdata\\roaming\\python\\python37\\site-packages)\n",
      "WARNING: Ignoring invalid distribution - (c:\\users\\seon\\appdata\\roaming\\python\\python37\\site-packages)\n",
      "WARNING: Ignoring invalid distribution -ensorflow-gpu (c:\\users\\seon\\appdata\\roaming\\python\\python37\\site-packages)\n",
      "WARNING: Ignoring invalid distribution -5py (c:\\users\\seon\\anaconda3\\lib\\site-packages)\n",
      "WARNING: Ignoring invalid distribution -pencv-python (c:\\users\\seon\\anaconda3\\lib\\site-packages)\n",
      "WARNING: Ignoring invalid distribution - (c:\\users\\seon\\appdata\\roaming\\python\\python37\\site-packages)\n",
      "WARNING: Ignoring invalid distribution -ensorflow-gpu (c:\\users\\seon\\appdata\\roaming\\python\\python37\\site-packages)\n",
      "WARNING: Ignoring invalid distribution -5py (c:\\users\\seon\\anaconda3\\lib\\site-packages)\n",
      "WARNING: Ignoring invalid distribution -pencv-python (c:\\users\\seon\\anaconda3\\lib\\site-packages)\n",
      "WARNING: Ignoring invalid distribution - (c:\\users\\seon\\appdata\\roaming\\python\\python37\\site-packages)\n",
      "WARNING: Ignoring invalid distribution -ensorflow-gpu (c:\\users\\seon\\appdata\\roaming\\python\\python37\\site-packages)\n"
     ]
    },
    {
     "name": "stdout",
     "output_type": "stream",
     "text": [
      "\n",
      "Requirement already satisfied: click in c:\\users\\seon\\anaconda3\\lib\\site-packages (from nltk) (7.1.2)\n",
      "Requirement already satisfied: tqdm in c:\\users\\seon\\anaconda3\\lib\\site-packages (from nltk) (4.48.2)\n",
      "Requirement already satisfied: joblib in c:\\users\\seon\\anaconda3\\lib\\site-packages (from nltk) (0.16.0)\n",
      "Requirement already satisfied: regex in c:\\users\\seon\\anaconda3\\lib\\site-packages (from nltk) (2020.7.14)\n"
     ]
    }
   ],
   "source": [
    "!pip install nltk"
   ]
  },
  {
   "cell_type": "code",
   "execution_count": 83,
   "metadata": {},
   "outputs": [
    {
     "name": "stdout",
     "output_type": "stream",
     "text": [
      "ERROR! Session/line number was not unique in database. History logging moved to new session 259\n"
     ]
    },
    {
     "name": "stderr",
     "output_type": "stream",
     "text": [
      "[nltk_data] Downloading package punkt to\n",
      "[nltk_data]     C:\\Users\\seon\\AppData\\Roaming\\nltk_data...\n",
      "[nltk_data]   Package punkt is already up-to-date!\n",
      "[nltk_data] Downloading package averaged_perceptron_tagger to\n",
      "[nltk_data]     C:\\Users\\seon\\AppData\\Roaming\\nltk_data...\n",
      "[nltk_data]   Package averaged_perceptron_tagger is already up-to-\n",
      "[nltk_data]       date!\n"
     ]
    },
    {
     "data": {
      "text/plain": [
       "True"
      ]
     },
     "execution_count": 83,
     "metadata": {},
     "output_type": "execute_result"
    }
   ],
   "source": [
    "import nltk\n",
    "from nltk.tokenize import sent_tokenize\n",
    "from nltk.tokenize import word_tokenize\n",
    "from nltk.probability import FreqDist\n",
    "import matplotlib.pyplot as plt\n",
    "nltk.download('punkt')\n",
    "nltk.download('averaged_perceptron_tagger')"
   ]
  },
  {
   "cell_type": "code",
   "execution_count": 16,
   "metadata": {},
   "outputs": [
    {
     "name": "stdout",
     "output_type": "stream",
     "text": [
      "['Hello Mr. Smith, how are you doing today?', 'The weather is great, and city is awesome.', 'The sky is pinkish-blue.', \"You shouldn't eat cardboard\"]\n"
     ]
    }
   ],
   "source": [
    "#문장 토큰화\n",
    "text=\"\"\"Hello Mr. Smith, how are you doing today? The weather is great, and city is awesome.\n",
    "The sky is pinkish-blue. You shouldn't eat cardboard\"\"\"\n",
    "tokenized_text=sent_tokenize(text)\n",
    "print(tokenized_text)"
   ]
  },
  {
   "cell_type": "code",
   "execution_count": 18,
   "metadata": {},
   "outputs": [
    {
     "name": "stdout",
     "output_type": "stream",
     "text": [
      "['Hello', 'Mr.', 'Smith', ',', 'how', 'are', 'you', 'doing', 'today', '?', 'The', 'weather', 'is', 'great', ',', 'and', 'city', 'is', 'awesome', '.', 'The', 'sky', 'is', 'pinkish-blue', '.', 'You', 'should', \"n't\", 'eat', 'cardboard']\n"
     ]
    }
   ],
   "source": [
    "#단어 토큰화\n",
    "tokenized_word=word_tokenize(text)\n",
    "print(tokenized_word)"
   ]
  },
  {
   "cell_type": "code",
   "execution_count": 20,
   "metadata": {},
   "outputs": [
    {
     "name": "stdout",
     "output_type": "stream",
     "text": [
      "<FreqDist with 25 samples and 30 outcomes>\n"
     ]
    }
   ],
   "source": [
    "fdist = FreqDist(tokenized_word)\n",
    "print(fdist)"
   ]
  },
  {
   "cell_type": "code",
   "execution_count": 22,
   "metadata": {},
   "outputs": [
    {
     "data": {
      "text/plain": [
       "[('is', 3),\n",
       " (',', 2),\n",
       " ('The', 2),\n",
       " ('.', 2),\n",
       " ('Hello', 1),\n",
       " ('Mr.', 1),\n",
       " ('Smith', 1),\n",
       " ('how', 1),\n",
       " ('are', 1),\n",
       " ('you', 1)]"
      ]
     },
     "execution_count": 22,
     "metadata": {},
     "output_type": "execute_result"
    }
   ],
   "source": [
    "fdist.most_common(10)"
   ]
  },
  {
   "cell_type": "code",
   "execution_count": 24,
   "metadata": {},
   "outputs": [
    {
     "data": {
      "image/png": "[encoded data removed]",
      "text/plain": [
       "<Figure size 432x288 with 1 Axes>"
      ]
     },
     "metadata": {
      "needs_background": "light"
     },
     "output_type": "display_data"
    }
   ],
   "source": [
    "fdist.plot(30,cumulative=False)\n",
    "plt.show()"
   ]
  },
  {
   "cell_type": "code",
   "execution_count": 32,
   "metadata": {},
   "outputs": [],
   "source": [
    "from pandas import read_csv"
   ]
  },
  {
   "cell_type": "code",
   "execution_count": 33,
   "metadata": {},
   "outputs": [
    {
     "data": {
      "text/html": [
       "<div>\n",
       "<style scoped>\n",
       "    .dataframe tbody tr th:only-of-type {\n",
       "        vertical-align: middle;\n",
       "    }\n",
       "\n",
       "    .dataframe tbody tr th {\n",
       "        vertical-align: top;\n",
       "    }\n",
       "\n",
       "    .dataframe thead th {\n",
       "        text-align: right;\n",
       "    }\n",
       "</style>\n",
       "<table border=\"1\" class=\"dataframe\">\n",
       "  <thead>\n",
       "    <tr style=\"text-align: right;\">\n",
       "      <th></th>\n",
       "      <th>create_date</th>\n",
       "      <th>location_id</th>\n",
       "      <th>location_name</th>\n",
       "      <th>md101_sn</th>\n",
       "      <th>msg</th>\n",
       "      <th>send_platform</th>\n",
       "    </tr>\n",
       "  </thead>\n",
       "  <tbody>\n",
       "    <tr>\n",
       "      <th>0</th>\n",
       "      <td>2022/03/04 16:27:55</td>\n",
       "      <td>242</td>\n",
       "      <td>충청북도 영동군</td>\n",
       "      <td>145806</td>\n",
       "      <td>[영동군청]확진 159명(확진자접촉 56, 증상발현 101, 무증상 2)발생▲유증상...</td>\n",
       "      <td>cbs</td>\n",
       "    </tr>\n",
       "    <tr>\n",
       "      <th>1</th>\n",
       "      <td>2022/03/04 16:24:52</td>\n",
       "      <td>69</td>\n",
       "      <td>경상남도 통영시</td>\n",
       "      <td>145805</td>\n",
       "      <td>[통영시청] 3.4.(금) 확진자559명(7277~7835번)발생▲타지방문·사적모임...</td>\n",
       "      <td>cbs</td>\n",
       "    </tr>\n",
       "    <tr>\n",
       "      <th>2</th>\n",
       "      <td>2022/03/04 16:22:16</td>\n",
       "      <td>189</td>\n",
       "      <td>전라남도 보성군</td>\n",
       "      <td>145804</td>\n",
       "      <td>[보성군] 건조한 날씨로 인해 산불위기경보 “경계” 단계▲산불 발생 위험 높음▲산림...</td>\n",
       "      <td>cbs</td>\n",
       "    </tr>\n",
       "    <tr>\n",
       "      <th>3</th>\n",
       "      <td>2022/03/04 16:16:47</td>\n",
       "      <td>199</td>\n",
       "      <td>전라남도 함평군</td>\n",
       "      <td>145803</td>\n",
       "      <td>[함평군청] 코로나19 확진자는 3.5.(토) 17시~18시 가까운 투표소에 신분증...</td>\n",
       "      <td>cbs</td>\n",
       "    </tr>\n",
       "    <tr>\n",
       "      <th>4</th>\n",
       "      <td>2022/03/04 16:16:08</td>\n",
       "      <td>199</td>\n",
       "      <td>전라남도 함평군</td>\n",
       "      <td>145802</td>\n",
       "      <td>[함평군청] 대통령선거 사전투표 3.4.(금)~3.5.(토) 06~18시 1m 줄간...</td>\n",
       "      <td>cbs</td>\n",
       "    </tr>\n",
       "    <tr>\n",
       "      <th>...</th>\n",
       "      <td>...</td>\n",
       "      <td>...</td>\n",
       "      <td>...</td>\n",
       "      <td>...</td>\n",
       "      <td>...</td>\n",
       "      <td>...</td>\n",
       "    </tr>\n",
       "    <tr>\n",
       "      <th>125321</th>\n",
       "      <td>2011/11/20 12:10:41</td>\n",
       "      <td>3,4,5,6,7,9</td>\n",
       "      <td>강원도 강릉시,강원도 고성군,강원도 동해시,강원도 삼척시,강원도 속초시,강원도 양양군</td>\n",
       "      <td>10</td>\n",
       "      <td>[국민안전처]20일 12시 동해중부먼바다 풍랑경보, 어선은 출항을 금지하고 출어선은...</td>\n",
       "      <td>cbs</td>\n",
       "    </tr>\n",
       "    <tr>\n",
       "      <th>125322</th>\n",
       "      <td>2011/11/18 21:12:20</td>\n",
       "      <td>200</td>\n",
       "      <td>전라남도 해남군</td>\n",
       "      <td>9</td>\n",
       "      <td>[국민안전처] 18일21시10분 전남 해남지역 호우경보, 상습침수및위험지역 대피,외...</td>\n",
       "      <td>cbs</td>\n",
       "    </tr>\n",
       "    <tr>\n",
       "      <th>125323</th>\n",
       "      <td>2011/11/18 11:38:36</td>\n",
       "      <td>217</td>\n",
       "      <td>제주특별자치도 전체</td>\n",
       "      <td>8</td>\n",
       "      <td>[국민안전처] 18일11시30분 제주동부지역 호우경보, 상습침수및위험지역 대피,외출...</td>\n",
       "      <td>cbs</td>\n",
       "    </tr>\n",
       "    <tr>\n",
       "      <th>125324</th>\n",
       "      <td>2011/11/18 08:20:05</td>\n",
       "      <td>217</td>\n",
       "      <td>제주특별자치도 전체</td>\n",
       "      <td>7</td>\n",
       "      <td>[국민안전처] 18일8시20분 제주산간,북부지역 호우경보, 상습침수및위험지역 대피,...</td>\n",
       "      <td>cbs</td>\n",
       "    </tr>\n",
       "    <tr>\n",
       "      <th>125325</th>\n",
       "      <td>2011/11/18 07:43:44</td>\n",
       "      <td>217</td>\n",
       "      <td>제주특별자치도 전체</td>\n",
       "      <td>6</td>\n",
       "      <td>[국민안전처] 18일07:30 제주서부지역 호우경보, 상습침수및위험지역 대피,외출자...</td>\n",
       "      <td>cbs</td>\n",
       "    </tr>\n",
       "  </tbody>\n",
       "</table>\n",
       "<p>125326 rows × 6 columns</p>\n",
       "</div>"
      ],
      "text/plain": [
       "                create_date  location_id  \\\n",
       "0       2022/03/04 16:27:55          242   \n",
       "1       2022/03/04 16:24:52           69   \n",
       "2       2022/03/04 16:22:16          189   \n",
       "3       2022/03/04 16:16:47          199   \n",
       "4       2022/03/04 16:16:08          199   \n",
       "...                     ...          ...   \n",
       "125321  2011/11/20 12:10:41  3,4,5,6,7,9   \n",
       "125322  2011/11/18 21:12:20          200   \n",
       "125323  2011/11/18 11:38:36          217   \n",
       "125324  2011/11/18 08:20:05          217   \n",
       "125325  2011/11/18 07:43:44          217   \n",
       "\n",
       "                                          location_name  md101_sn  \\\n",
       "0                                              충청북도 영동군    145806   \n",
       "1                                              경상남도 통영시    145805   \n",
       "2                                              전라남도 보성군    145804   \n",
       "3                                              전라남도 함평군    145803   \n",
       "4                                              전라남도 함평군    145802   \n",
       "...                                                 ...       ...   \n",
       "125321  강원도 강릉시,강원도 고성군,강원도 동해시,강원도 삼척시,강원도 속초시,강원도 양양군        10   \n",
       "125322                                         전라남도 해남군         9   \n",
       "125323                                       제주특별자치도 전체         8   \n",
       "125324                                       제주특별자치도 전체         7   \n",
       "125325                                       제주특별자치도 전체         6   \n",
       "\n",
       "                                                      msg send_platform  \n",
       "0       [영동군청]확진 159명(확진자접촉 56, 증상발현 101, 무증상 2)발생▲유증상...           cbs  \n",
       "1       [통영시청] 3.4.(금) 확진자559명(7277~7835번)발생▲타지방문·사적모임...           cbs  \n",
       "2       [보성군] 건조한 날씨로 인해 산불위기경보 “경계” 단계▲산불 발생 위험 높음▲산림...           cbs  \n",
       "3       [함평군청] 코로나19 확진자는 3.5.(토) 17시~18시 가까운 투표소에 신분증...           cbs  \n",
       "4       [함평군청] 대통령선거 사전투표 3.4.(금)~3.5.(토) 06~18시 1m 줄간...           cbs  \n",
       "...                                                   ...           ...  \n",
       "125321  [국민안전처]20일 12시 동해중부먼바다 풍랑경보, 어선은 출항을 금지하고 출어선은...           cbs  \n",
       "125322  [국민안전처] 18일21시10분 전남 해남지역 호우경보, 상습침수및위험지역 대피,외...           cbs  \n",
       "125323  [국민안전처] 18일11시30분 제주동부지역 호우경보, 상습침수및위험지역 대피,외출...           cbs  \n",
       "125324  [국민안전처] 18일8시20분 제주산간,북부지역 호우경보, 상습침수및위험지역 대피,...           cbs  \n",
       "125325  [국민안전처] 18일07:30 제주서부지역 호우경보, 상습침수및위험지역 대피,외출자...           cbs  \n",
       "\n",
       "[125326 rows x 6 columns]"
      ]
     },
     "execution_count": 33,
     "metadata": {},
     "output_type": "execute_result"
    }
   ],
   "source": [
    "#csv파일 불러오기\n",
    "cbs = read_csv('data.csv')\n",
    "cbs"
   ]
  },
  {
   "cell_type": "code",
   "execution_count": 34,
   "metadata": {},
   "outputs": [
    {
     "data": {
      "text/html": [
       "<div>\n",
       "<style scoped>\n",
       "    .dataframe tbody tr th:only-of-type {\n",
       "        vertical-align: middle;\n",
       "    }\n",
       "\n",
       "    .dataframe tbody tr th {\n",
       "        vertical-align: top;\n",
       "    }\n",
       "\n",
       "    .dataframe thead th {\n",
       "        text-align: right;\n",
       "    }\n",
       "</style>\n",
       "<table border=\"1\" class=\"dataframe\">\n",
       "  <thead>\n",
       "    <tr style=\"text-align: right;\">\n",
       "      <th></th>\n",
       "      <th>msg</th>\n",
       "    </tr>\n",
       "  </thead>\n",
       "  <tbody>\n",
       "    <tr>\n",
       "      <th>0</th>\n",
       "      <td>[영동군청]확진 159명(확진자접촉 56, 증상발현 101, 무증상 2)발생▲유증상...</td>\n",
       "    </tr>\n",
       "    <tr>\n",
       "      <th>1</th>\n",
       "      <td>[통영시청] 3.4.(금) 확진자559명(7277~7835번)발생▲타지방문·사적모임...</td>\n",
       "    </tr>\n",
       "    <tr>\n",
       "      <th>2</th>\n",
       "      <td>[보성군] 건조한 날씨로 인해 산불위기경보 “경계” 단계▲산불 발생 위험 높음▲산림...</td>\n",
       "    </tr>\n",
       "    <tr>\n",
       "      <th>3</th>\n",
       "      <td>[함평군청] 코로나19 확진자는 3.5.(토) 17시~18시 가까운 투표소에 신분증...</td>\n",
       "    </tr>\n",
       "    <tr>\n",
       "      <th>4</th>\n",
       "      <td>[함평군청] 대통령선거 사전투표 3.4.(금)~3.5.(토) 06~18시 1m 줄간...</td>\n",
       "    </tr>\n",
       "    <tr>\n",
       "      <th>...</th>\n",
       "      <td>...</td>\n",
       "    </tr>\n",
       "    <tr>\n",
       "      <th>125321</th>\n",
       "      <td>[국민안전처]20일 12시 동해중부먼바다 풍랑경보, 어선은 출항을 금지하고 출어선은...</td>\n",
       "    </tr>\n",
       "    <tr>\n",
       "      <th>125322</th>\n",
       "      <td>[국민안전처] 18일21시10분 전남 해남지역 호우경보, 상습침수및위험지역 대피,외...</td>\n",
       "    </tr>\n",
       "    <tr>\n",
       "      <th>125323</th>\n",
       "      <td>[국민안전처] 18일11시30분 제주동부지역 호우경보, 상습침수및위험지역 대피,외출...</td>\n",
       "    </tr>\n",
       "    <tr>\n",
       "      <th>125324</th>\n",
       "      <td>[국민안전처] 18일8시20분 제주산간,북부지역 호우경보, 상습침수및위험지역 대피,...</td>\n",
       "    </tr>\n",
       "    <tr>\n",
       "      <th>125325</th>\n",
       "      <td>[국민안전처] 18일07:30 제주서부지역 호우경보, 상습침수및위험지역 대피,외출자...</td>\n",
       "    </tr>\n",
       "  </tbody>\n",
       "</table>\n",
       "<p>125326 rows × 1 columns</p>\n",
       "</div>"
      ],
      "text/plain": [
       "                                                      msg\n",
       "0       [영동군청]확진 159명(확진자접촉 56, 증상발현 101, 무증상 2)발생▲유증상...\n",
       "1       [통영시청] 3.4.(금) 확진자559명(7277~7835번)발생▲타지방문·사적모임...\n",
       "2       [보성군] 건조한 날씨로 인해 산불위기경보 “경계” 단계▲산불 발생 위험 높음▲산림...\n",
       "3       [함평군청] 코로나19 확진자는 3.5.(토) 17시~18시 가까운 투표소에 신분증...\n",
       "4       [함평군청] 대통령선거 사전투표 3.4.(금)~3.5.(토) 06~18시 1m 줄간...\n",
       "...                                                   ...\n",
       "125321  [국민안전처]20일 12시 동해중부먼바다 풍랑경보, 어선은 출항을 금지하고 출어선은...\n",
       "125322  [국민안전처] 18일21시10분 전남 해남지역 호우경보, 상습침수및위험지역 대피,외...\n",
       "125323  [국민안전처] 18일11시30분 제주동부지역 호우경보, 상습침수및위험지역 대피,외출...\n",
       "125324  [국민안전처] 18일8시20분 제주산간,북부지역 호우경보, 상습침수및위험지역 대피,...\n",
       "125325  [국민안전처] 18일07:30 제주서부지역 호우경보, 상습침수및위험지역 대피,외출자...\n",
       "\n",
       "[125326 rows x 1 columns]"
      ]
     },
     "execution_count": 34,
     "metadata": {},
     "output_type": "execute_result"
    }
   ],
   "source": [
    "cbs.filter(['msg'])"
   ]
  },
  {
   "cell_type": "code",
   "execution_count": 36,
   "metadata": {},
   "outputs": [],
   "source": [
    "import pandas as pd\n",
    "import numpy as np"
   ]
  },
  {
   "cell_type": "code",
   "execution_count": 49,
   "metadata": {},
   "outputs": [],
   "source": [
    "msg1 = cbs['msg'][1]"
   ]
  },
  {
   "cell_type": "code",
   "execution_count": 89,
   "metadata": {},
   "outputs": [
    {
     "name": "stdout",
     "output_type": "stream",
     "text": [
      "['[통영시청] 3.4.', '(금) 확진자559명(7277~7835번)발생▲타지방문·사적모임·행사자제▲등교에 따른 올바른 마스크 착용, 환기 등 개인방역수칙 준수바랍니다.']\n",
      "['[', '통영시청', ']', '3.4', '.', '(', '금', ')', '확진자559명', '(', '7277~7835번', ')', '발생▲타지방문·사적모임·행사자제▲등교에', '따른', '올바른', '마스크', '착용', ',', '환기', '등', '개인방역수칙', '준수바랍니다', '.']\n"
     ]
    }
   ],
   "source": [
    "tokenized_text=sent_tokenize(msg1)\n",
    "print(tokenized_text)\n",
    "tokenized_word=word_tokenize(msg1)\n",
    "print(tokenized_word)"
   ]
  },
  {
   "cell_type": "code",
   "execution_count": 109,
   "metadata": {},
   "outputs": [
    {
     "name": "stdout",
     "output_type": "stream",
     "text": [
      "['[', '영동군청', ']', '확진', '159명', '(', '확진자접촉', '56', ',', '증상발현', '101', ',', '무증상', '2', ')', '발생▲유증상시', '신속항원검사', '실시▲선별진료소', '이용시간', '평일', '9시~16시', '/', '휴일', '9시~12시']\n",
      "['[', '통영시청', ']', '3.4', '.', '(', '금', ')', '확진자559명', '(', '7277~7835번', ')', '발생▲타지방문·사적모임·행사자제▲등교에', '따른', '올바른', '마스크', '착용', ',', '환기', '등', '개인방역수칙', '준수바랍니다', '.']\n",
      "['[', '보성군', ']', '건조한', '날씨로', '인해', '산불위기경보', '“', '경계', '”', '단계▲산불', '발생', '위험', '높음▲산림근처', '논밭두렁', ',', '영농폐기물', '소각절대금지▲산불', '발견', '시', '119', '신속신고', '바랍니다', '.']\n"
     ]
    }
   ],
   "source": [
    "for i in [0,1,2]: ##열값을 배열에 넣어서 사용해야돼\n",
    "    tokenized_word=word_tokenize(cbs['msg'][i])\n",
    "    print(tokenized_word)"
   ]
  },
  {
   "cell_type": "code",
   "execution_count": 125,
   "metadata": {},
   "outputs": [
    {
     "name": "stdout",
     "output_type": "stream",
     "text": [
      "[영동군청]확진 159명(확진자접촉 56, 증상발현 101, 무증상 2)발생▲유증상시 신속항원검사 실시▲선별진료소 이용시간 평일 9시~16시 / 휴일 9시~12시[통영시청] 3.4.(금) 확진자559명(7277~7835번)발생▲타지방문·사적모임·행사자제▲등교에 따른 올바른 마스크 착용, 환기 등 개인방역수칙 준수바랍니다.[보성군] 건조한 날씨로 인해 산불위기경보 “경계” 단계▲산불 발생 위험 높음▲산림근처 논밭두렁, 영농폐기물 소각절대금지▲산불 발견 시 119 신속신고 바랍니다.[함평군청] 코로나19 확진자는 3.5.(토) 17시~18시 가까운 투표소에 신분증 및 보건소 안내 문자메시지 제시 후 투표 바랍니다(보건소 안내 문자 기발송).[함평군청] 대통령선거 사전투표 3.4.(금)~3.5.(토) 06~18시 1m 줄간격 유지 등 방역수칙을 준수하며 가까운 투표소에 신분증 지참 후 투표 바랍니다.[거제시청] 확진자1,099명 ▲코로나19관련 재택치료 시 자세한 행동 요령 http://c11.kr/wpv5를 참고하여 주시기 바랍니다[나주시청] 코로나19 확진자는 3.5.(토)17시~18시 가까운 투표소에 신분증 및 보건소 발송 문자메시지 제시 후 투표 바랍니다. (보건소 기 안내문자 발송)[나주시청] 대통령선거 사전투표 3.4.(금) ~ 3.5.(토) 06~18시 1m줄간격유지 등 방역수칙을 준수하며 가까운 투표소에 신분증 지참 후 투표 바랍니다.[해남군청]3월4일 확진자 110명 발생▶3.4(금)~3.5(토) 문화예술회관 다목적실▶대통령선거 사전투표시 마스크착용, 손소독 등 방역수칙 준수하여 참여바랍니다[영양군청]현재 산불위기경보 경계 단계로 산불 발생 위험이 높으니 주민과 등산객은 산불 발생에 주의하시고 산불 발견 즉시 신고바랍니다. (054-680-6632)[고성군청] 3.4.(금) 15:00기준 확진자 78명(관내62 관외16) 발생 // 가족,지인 간 모임자제 // 마스크 착용, 환기 등 개인방역수칙 준수[진주시청] 3일 15시 이후 및 4일 15시 기준, 확진자 1648명(군부대 관련 18명, 일반시민 1630명) 발생. 상세 현황은 시 누리집 참조바랍니다.[창원시청]임신부 신속항원검사키트 배부 안내 배부일자 : 3월14일(월)~ 배부장소 : 주소지 읍면동행정복지센터 준비물 : 신분증, 임신확인서류(임산부수첩 등)[옥천군청]확진 137명(관내 122, 관외 15)발생. 보건소 신속항원 검사 음성확인서 발급업무 중단,민간의료기관 이용. 유증상시 자가검사키트 음성확인 후 외출[보령시청]3.4.(금) 15:20기준 보령시확진자 231명 발생(4057번~4287번)자세한사항 및 사전투표(3.4.~3.5.) 안내 vo.la/onM84 참고[강원도청] 3월 5일부터 거리두기 조정(~3.20) ▲식당·카페 등 다중이용시설 운영시간 23시까지 연장 ▲7인 이상 사적모임 금지(6명까지 가능) 유지[행정안전부] 내일(5일)까지 강한 바람이 예상됩니다. 시설물 낙하 사고, 산불 및 시설물 화재, 해안가 사고 등 안전에 유의하시기 바랍니다.[의령군청] 3. 4.(금) 15시기준 확진자53명 발생▲재택치료자 행동요령 안내 https://c11.kr/wpv5 ▲모임 자제 및 기본방역수칙 준수 바랍니다.[하동군청]2022.3.4(금), 15:00기준 확진자 74명 발생(관내68, 관외6), 재택치료자 등 행동요령 https://c11.kr/wpv5 참고바랍니다.[산청군청] 3월4일(금)15시 기준 확진자 79명 발생▲개인 방역수칙 준수▲유증상시 신속항원검사▲관내 취약시설 확진자 발생 급증, 시설 이용자는 주의바랍니다.[보은군청] 3.4.(금) 15시기준 확진자 106명발생(관내82,관외24)▲수동감시자KF94마스크▲선별진료소평일09:00~16:00 주말휴일09:00~12:00[김제시청]김제시호흡기전담클리닉(우석병원) 3월 휴일없이운영(평일.주말.공휴일09:00~16:00)유증상자 및 희망자는 방문하여 코로나19 검사받으시기 바랍니다.[영덕군청] 3. 4.(금) 18시 연안사고 주의보 발령. 해안가 강풍과 높은 파도로 인명피해 우려. 낚시,방문객 등 안전에 주의바랍니다(054-502-2348)[전남도청] 도내 산과 들판이 매우 건조, 작은 불씨도 산불로 번질 위험이 큽니다. √산과 가까운 곳에서 논밭두렁, 영농폐기물 등을 절대 태우지 마시기 바랍니다.[울진군청] 울진군 북면 두천리 산불 확산 중. 인근 북면 죽변면 주민과 등산객은 산에서 멀리 떨어진 안전한 곳(부구초등학교 등)으로 즉시 대피하시기 바랍니다.[삼척시청]3.4(금) 14시기준 확진자 224명▲주말 타지역 방문·만남 등 사적모임 자제▲올바른 마스크착용▲재택치료지침 https://bit.ly/3BK8O4H[서천군청]3.4.(금) 14시기준 신규확진자 141명(접촉41명,조사중82명,타지역18명)▲보건소 신속항원검사 음성확인서 발급 중단▲개인별 방역수칙 준수바랍니다[경상북도청] 오늘 오후부터 내일 새벽까지 경북지역에 강한 바람이 예상됩니다. 시설물 관리와 산불 및 화재에 주의하시기 바랍니다.[안동시청]금일 오후들어 관내 강한 바람으로 인해 산불발생 위험이 높습니다. 산림인접지 소각금지, 재처리주의, 입산 시 흡연금지 등 산불예방에 협조 바랍니다.[남해군청] 3.4(금) 14:00기준 확진자 103명(관내41,타지역 접촉5,타지역 거주3,해외1,조사중53)▶개학기 올바른 마스크 착용▶유증상시 검사바랍니다.[동해시청] 3.4.(금) 14시 기준, 확진자 288명 발생▲마스크 착용(KF94 권고), 주기적인 환기·소독 등 기본방역수칙 철저 준수바랍니다.[곡성군청]3.04.(금)확진자49명발생(신속항원21,확진자접촉14,해제전검사7,유증상5,타지역2)▲의심증상시 검사 바랍니다.(재택치료상담)061-360-8995[사천시청]3.4.(금)14시 기준 확진자 391명 발생 ▲코로나19 지역확산 심각▲타지역 방문·모임 자제▲위생관리 철저▲유증상 시 즉시 검사 받으시기 바랍니다.[부여군청]3월4일 확진자204명발생 신속항원검사 음성확인서 발급시 호흡기진료 지정의료기관(성요셉연합의원,부여이비인후과,서울연합내과)에서 발급가능/보건소 발급중단[성동구청]오늘11:21경 성동구 성수동2가 269-57 공장 화재발생으로 교통정체 예상. 이 지역을 우회하여 주시고 인근 주민은 안전사고 발생에 유의 바랍니다.[전주시청]3.4(금) 현재기준 2,291명 발생(전일 2,840명)/모임 및 외출자제 등 방역수칙 준수, 의심증상 발생시 선별진료소에 방문하여 검사 바랍니다.[울진군청]울진군 북면 두천리 산불 확산이 우려되니, 상당리, 두천리, 하당리, 사계리 인근 주민과 등산객은 안전한 곳(주인분교)으로 대피하시기 바랍니다.[서울경찰청] 하남시에서 목격된 최병욱씨(남, 66세)를 찾고 있습니다 - 157cm, 60kg, 남색패딩,검정바지,검정운동화 vo.la/nbsRKG / ☎182[장수군청] 3. 4.(금) 현재기준 확진자 25명 발생/ 방역수칙 준수/ 타지역 방문 자제/ 백신 예방접종 권고 https://www.jangsu.go.kr/[고성군청] 3. 4. 11시 기준, 확진자 219명(고성2386~2604/조사중126, 관내 확진자 접촉93)▲사적모임 자제▲개인 방역수칙 준수[서울시청]3.4(금) 0시 서울시 신규확진자 59,269명 bit.ly/3o0icfp / 외래진료센터 이용 안내 bit.ly/36gB03j ☎120[정선군청]3.4.(금) 신규확진자 102명 발생 ▲ (백신예약)18세 이상 미접종자 노바백스백신 정선군보건소에서 예약바랍니다. (콜센터) 033-560-2116[익산시청]코로나 백신 미접종군인 11세 이하 발생율이 높은 상황입니다. 외출자제, KF94마스크 상시착용, 수시로 환기. 손씻기 등 안전지도 부탁드립니다.[춘천시청] 3. 4.(금) 0시 기준 확진자 1,367명. ▲대면모임·행사 자제 ▲주기적인 환기 ▲보건용 마스크 착용 등 개인방역 철저 당부드립니다.[속초시청]3.3.(목) 311명 확진(속초시민 269, 타지역 42) ▲ 개인방역철저 ▲ 증상 의심시 선별진료소 방문(09~16시) 바랍니다.[양양군청] 3.3(목) 37명 확진(양양군민 33, 타지역 4) 발생 ▲가족, 지인 간 모임자제 ▲마스크착용 등 개인방역수칙 준수바랍니다.[원주시청] 3. 3.(목) 확진자 1,420명 발생(누적 19,911명) ▲올바른 마스크 착용, 사적 모임 규모·시간 최소화 등 개인방역 수칙 준수 바랍니다.[진안군청] 3.4.(금)현재기준 확진자 41명 발생. 의심증상 발생시 선별진료소 검사 바랍니다. https://www.jinan.go.kr/index.jinan[제주특별자치도] 4일 0시기준, 신규 확진자 3,399명 발생(누적확진40,870명, 완치 25,654명, 사망 27명) covid19.jeju.go.kr[광주광역시]시청 선별검사소의 경우 14시부터 16시까지는 대기인원이 많습니다. 대기시간이 짧은 16시 이후 방문을 권장합니다.[광주광역시]코로나19 선별진료소,임시검사소 운영 안내▶보건소:9시~20시 ▶광주시청 야외음악당:14시~22시 ▶하남3지구주차타워2(하남울로13):13시~21시[시흥시청] 3월 4일 0시 확진자 3345명 발생 ▲시흥시 코로나19 지정의료기관 확인(https://vvd.bz/bizl) ▲3차접종 참여 바랍니다.[성남시청] 3.04일 확진자 5,200명 발생. 코로나19 예방접종 참여와 방역수칙을 준수하여 주시기 바랍니다. corona.seongnam.go.kr[무주군청] 3. 4. (금) 11시 기준 확진자 68명 발생(관외8, 관내60)▲기본방역수칙 준수▲모임과 만남을 최대한 자제하시고 유증상시 진단검사 바랍니다.[평창군청] 3.4.(금) 평창군 확진자 106명(1,658번~1,763번) 발생. 관내 96명, 타지역10명, 개인간 접촉 제발 자제 부탁드립니다.[행정안전부] 내일(5일)까지 강한 바람이 예상됩니다. 시설물 낙하 사고, 산불 및 시설물 화재, 해안가 사고 등 안전에 유의하시기 바랍니다.[성주군] ▲3.4.(금) 코로나19 확진자 79명(관내71,타지역8) 발생▲마스크 착용 철저▲타지역방문 및 모임 자제▲유증상시 즉시 검사[서산시청] 3월 4일(금) 11시기준 확진자 748명발생(8497~9244번) ▲ KF94 마스크 착용, 손씻기 등 개인방역수칙 준수바랍니다.[안산시청] 3월 4일 0시기준 확진자 3902명 발생▲재택치료 24시간 상담(상담원 100여명 대기)▲상록수보건소 1533·0500▲단원보건소 1533·0600[부산시]자택에서 자가검사키트 양성이면, 선별진료소에 꼭 방문하시기 바랍니다. 3.4.(금, 0시기준)코로나19 확진자 23,198명(국내23,198 해외0)[단양군청] 3.4.(금)11:00기준 확진자 117명 발생(타지역4명 포함). 코로나 확산방지를 위해 마스크 착용, 손 씻기 등 방역수칙 준수 바랍니다.[광명시청] 3월 4일 0시 기준 확진자 1,984명 발생 ▶코로나19 확진과 관련된 상담은 광명시재택치료행정안내센터 02-2680-2898로 문의 바랍니다.[용인시청]3월4일 0시기준 확진자 5,831(처인1,298 기흥2,624 수지1,909) 백신접종 참여와 마스크착용 등 개인방역수칙을 준수하여 주시기 바랍니다.[안양시청] ▲ 3.4.(목) 0시 기준 신규확진자 2,290명 발생 ▲18세 이상 미접종자 노바백스 백신 접종 가능 ncvr2.kdca.go.kr[영광군청]전일 확진자 중 사업장31%, 소아·청소년32% 발생△의료기관,요양병원·시설 감염 지속△가족·지인간 산발적 전염 발생△외출자제,만남은 짧게,환기는 필수[횡성군청] 3.3.(목) 확진자 148명 발생(누적1,839명) ▲ 사적 모임 및 타지역 방문 자제 ▲마스크 착용, 환기 등 개인방역수칙 준수 바랍니다.[남원시청]▲3.4.(금)08시기준,확진자294명발생(남원3,596~3,889번)/확진자의접촉자 82명,조사중212명▲사적모임, 타지역방문자제/유증상시 즉시검사![아산시청] 3월 3일 확진자 1379명 / 대통령선거 사전투표소 입장 시 마스크를 반드시 착용하고 다른 유권자와 거리두기 등 방역수칙을 준수하여 주시기 바랍니다[완주군청] 3월 4일(금) 0시 기준 확진자 358명발생 ▲행사, 외출, 모임자제▲마스크 착용▲주기적인 환기▲방역수칙 준수▲재택치료 안내 c11.kr/wpv5[김해시청] 3월 4일 0시 기준 확진자 3080명 발생(관내 거주 2969, 타지역 거주 111) / vo.la/E242P 참고바랍니다[청주시청]3월3일 확진자 3,794명 발생(상당구916,서원구727,흥덕구1,283,청원구714,타지역154)▲홈페이지 참조▲수시환기 등 방역수칙 준수 바랍니다[임실군청] 3.4.(금) 10시 기준 확진자 67명 발생 / 개인 방역수칙 준수 / 타지역 방문 자제 / 유증상시 즉시 검사 받으시기 바랍니다.[영월군청] 3.4.(금) 확진자 56명 발생 / 재택치료자는 필요시 병의원을 통해 전화상담 및 처방이 가능하오니 군 홈페이지를 참고바랍니다.[포천시청] 3월 4일 0시 기준 확진자 832명(내국인 804명/외국인 28명) 발생. 마스크 착용 및 방역수칙을 준수 바랍니다. c11.kr/xfr9[양구군청]3.4.(금)0시 기준 양구군 확진자 83명 발생(학생 14명, 군인 15명, 타지역 5명, 관내주민 49명)▲가족, 지인 간 사적 모임 자제바랍니다.[고창군청]3.4(금)09:00기준확진자140명(1911~2050번)격리자3,타지역거주4,격리중8,관내접촉125▲가족 지인 간 모임방문자제▲증상발현시 신속항원검사[순창군청] 3.4.(금) 10시 기준 확진자 57명 발생(접촉자18, 조사중33, 타지역6) ▲재택치료자 및 동거인 행동요령 https://c11.kr/wpv5[부천시청] 3월4일(금) 00:00 기준 코로나19 확진자 4,949명 발생, 부천시 홈페이지(코로나19 대응현황) 참조하시기 바랍니다.[대구시] 4일 0시 기준 확진자 9,494명(달서구2311,북구1772,수성구1490,동구1226,달성군1061,남구589,서구507,중구290,타지역248).[대전광역시] 오늘 0시 기준, 어제 하루 총 5,958명 추가 발생(동구 840, 중구 891, 서구 1,949, 유성구 1,658, 대덕구 620)[진천군청] ▲3.3. 코로나19 확진자 441명(관내347, 관외 94) ▲손씻기, 마스크착용 등 방역수칙 준수 ▲코로나19 추가접종 늦지않게 참여바랍니다[합천군청] 3.4.(금) 9시 기준 확진자 91명 발생(합천군민 80, 타지역 11), 재택치료자 등 행동요령 https://c11.kr/wpv5 참고바랍니다[화성시청] 3월 4일 0시 기준, 확진자 5,111명 발생 ▲ 재택치료 코로나19 행정안내센터 24시간 상담운영 ☎ 031-5189-1200[함양군청] 3.4(금) 10시기준 확진자 105명 발생 ▶백신접종, 방역수칙 준수가 최선입니다. ▶재택치료자 생활수칙 안내(http://c11.kr/wpv5)[김포시청]3.4 0시 기준 코로나19 확진자 2,928명 발생▲ 김포시블로그 vo.la/2rYsMc 참고▲ 마스크착용 등 방역수칙을 철저히 준수하시기 바랍니다.[세종시청] 전일(3.3.)확진자 1,577명 ▲방역패스 잠정중단, 보건소 코로나19 음성확인서 발급중단 ▲사적모임 6인, 영업시간 22시까지 ▲기본방역수칙 준수[전남도청] 코로나19 확진자는 3.5.(토) 17시~18시까지 사전투표장 도착하여, 감염확인 문자메시지(관할 보건소 발송) 제시 후 투표 가능[수원시청] 3월 4일 0시 기준 수원확진 6,382명 발생. 의심 증상 있으면 가까운 임시선별검사소 또는 병·의원에서 신속항원검사. me2.kr/0ter4[파주시청]3월4일 0시기준 확진자 2345명 발생. PCR검사는 여유있는 오후에 방문바랍니다. 결과는 다음날 오전,오후 검사자 모두 동일한 시간에 통보됩니다.[전남도청] 3.4.(금) ~ 3.5.(토) 6시~18시까지 대통령선거 사전투표에 방역수칙을 철저히 준수하여 참여 바랍니다.[경상북도청] 3/4 0시 기준 코로나19 신규확진자 (군위55의성107청송60영양18영덕85청도94고령100성주79칠곡296예천174봉화65울진149울릉6)[울산광역시]3.4. 0시기준 코로나19확진자 5,813명(중구965 남구1,679 동구842 북구1,307 울주1,020)확진자 최대, 대면접촉 줄이기 바랍니다[하남시청] 3/4(금) 0시 신규 확진자 1,762명 발생 c11.kr/xfpz / 코로나19 예방접종에 참여해 주시기 바랍니다. ncvr.kdca.go.kr[경상북도청] 3/4 0시 기준 코로나19 신규확진자 8,382명(포항1772경주878김천331안동478구미1518영주428영천249상주210문경231경산999)[행정안전부] 오늘 10시00분 경북(경산,경북북동산지),대구 건조경보, 입산시 화기소지 및 논두렁, 폐기물 소각 금지 등 화재에 주의바랍니다.[평택시]확진자(평택시민3,532명)발생/재택치료자 의료상담 콜센터 4개소를 24시간 운영하고 있으니 평택시 블로그를 참고하시기 바랍니다.[화천군청]3월 3일(목) 화천군 확진자 32명(군장병 9, 타지역민 7) 발생 ▲코로나 확산방지를 위해 모임 및 타지역 방문자제와 개인 방역수칙 준수바랍니다.[부산경찰청] 연제구에서 실종된 장병연씨(남, 82세)를 찾습니다 - 174cm, 70kg, 검정 점퍼, 곤색바지, 검정캡모자 vo.la/y5asB / ☎182[인천시] 3월4일 0시기준 코로나19 확진 16,683명 발생. 대통령 선거 투표권이 있는 확진자와 격리자는 관할 보건소의 안내 문자에 따라 투표가 가능합니다.[거창군청] 3. 4.(금) 09시 기준 확진자 177명 발생 ▲지역 내 확진자 증가 ▲이동·만남·외출 자제 ▲일상생활 방역준수 ▲3차예방접종 적극 참여바랍니다.\n"
     ]
    }
   ],
   "source": [
    "cbs_total=''\n",
    "for i in range(0,100): \n",
    "    cbs_total += cbs['msg'][i]\n",
    "    \n",
    "print(cbs_total)"
   ]
  },
  {
   "cell_type": "code",
   "execution_count": 126,
   "metadata": {},
   "outputs": [
    {
     "name": "stdout",
     "output_type": "stream",
     "text": [
      "['[', '영동군청', ']', '확진', '159명', '(', '확진자접촉', '56', ',', '증상발현', '101', ',', '무증상', '2', ')', '발생▲유증상시', '신속항원검사', '실시▲선별진료소', '이용시간', '평일', '9시~16시', '/', '휴일', '9시~12시', '[', '통영시청', ']', '3.4', '.', '(', '금', ')', '확진자559명', '(', '7277~7835번', ')', '발생▲타지방문·사적모임·행사자제▲등교에', '따른', '올바른', '마스크', '착용', ',', '환기', '등', '개인방역수칙', '준수바랍니다', '.', '[', '보성군', ']', '건조한', '날씨로', '인해', '산불위기경보', '“', '경계', '”', '단계▲산불', '발생', '위험', '높음▲산림근처', '논밭두렁', ',', '영농폐기물', '소각절대금지▲산불', '발견', '시', '119', '신속신고', '바랍니다', '.', '[', '함평군청', ']', '코로나19', '확진자는', '3.5', '.', '(', '토', ')', '17시~18시', '가까운', '투표소에', '신분증', '및', '보건소', '안내', '문자메시지', '제시', '후', '투표', '바랍니다', '(', '보건소', '안내', '문자', '기발송', ')', '.', '[', '함평군청', ']', '대통령선거', '사전투표', '3.4.', '(', '금', ')', '~3.5', '.', '(', '토', ')', '06~18시', '1m', '줄간격', '유지', '등', '방역수칙을', '준수하며', '가까운', '투표소에', '신분증', '지참', '후', '투표', '바랍니다', '.', '[', '거제시청', ']', '확진자1,099명', '▲코로나19관련', '재택치료', '시', '자세한', '행동', '요령', 'http', ':', '//c11.kr/wpv5를', '참고하여', '주시기', '바랍니다', '[', '나주시청', ']', '코로나19', '확진자는', '3.5', '.', '(', '토', ')', '17시~18시', '가까운', '투표소에', '신분증', '및', '보건소', '발송', '문자메시지', '제시', '후', '투표', '바랍니다', '.', '(', '보건소', '기', '안내문자', '발송', ')', '[', '나주시청', ']', '대통령선거', '사전투표', '3.4', '.', '(', '금', ')', '~', '3.5', '.', '(', '토', ')', '06~18시', '1m줄간격유지', '등', '방역수칙을', '준수하며', '가까운', '투표소에', '신분증', '지참', '후', '투표', '바랍니다', '.', '[', '해남군청', ']', '3월4일', '확진자', '110명', '발생▶3.4', '(', '금', ')', '~3.5', '(', '토', ')', '문화예술회관', '다목적실▶대통령선거', '사전투표시', '마스크착용', ',', '손소독', '등', '방역수칙', '준수하여', '참여바랍니다', '[', '영양군청', ']', '현재', '산불위기경보', '경계', '단계로', '산불', '발생', '위험이', '높으니', '주민과', '등산객은', '산불', '발생에', '주의하시고', '산불', '발견', '즉시', '신고바랍니다', '.', '(', '054-680-6632', ')', '[', '고성군청', ']', '3.4', '.', '(', '금', ')', '15:00기준', '확진자', '78명', '(', '관내62', '관외16', ')', '발생', '//', '가족', ',', '지인', '간', '모임자제', '//', '마스크', '착용', ',', '환기', '등', '개인방역수칙', '준수', '[', '진주시청', ']', '3일', '15시', '이후', '및', '4일', '15시', '기준', ',', '확진자', '1648명', '(', '군부대', '관련', '18명', ',', '일반시민', '1630명', ')', '발생', '.', '상세', '현황은', '시', '누리집', '참조바랍니다', '.', '[', '창원시청', ']', '임신부', '신속항원검사키트', '배부', '안내', '배부일자', ':', '3월14일', '(', '월', ')', '~', '배부장소', ':', '주소지', '읍면동행정복지센터', '준비물', ':', '신분증', ',', '임신확인서류', '(', '임산부수첩', '등', ')', '[', '옥천군청', ']', '확진', '137명', '(', '관내', '122', ',', '관외', '15', ')', '발생', '.', '보건소', '신속항원', '검사', '음성확인서', '발급업무', '중단', ',', '민간의료기관', '이용', '.', '유증상시', '자가검사키트', '음성확인', '후', '외출', '[', '보령시청', ']', '3.4', '.', '(', '금', ')', '15:20기준', '보령시확진자', '231명', '발생', '(', '4057번~4287번', ')', '자세한사항', '및', '사전투표', '(', '3.4.~3.5', '.', ')', '안내', 'vo.la/onM84', '참고', '[', '강원도청', ']', '3월', '5일부터', '거리두기', '조정', '(', '~3.20', ')', '▲식당·카페', '등', '다중이용시설', '운영시간', '23시까지', '연장', '▲7인', '이상', '사적모임', '금지', '(', '6명까지', '가능', ')', '유지', '[', '행정안전부', ']', '내일', '(', '5일', ')', '까지', '강한', '바람이', '예상됩니다', '.', '시설물', '낙하', '사고', ',', '산불', '및', '시설물', '화재', ',', '해안가', '사고', '등', '안전에', '유의하시기', '바랍니다', '.', '[', '의령군청', ']', '3', '.', '4', '.', '(', '금', ')', '15시기준', '확진자53명', '발생▲재택치료자', '행동요령', '안내', 'https', ':', '//c11.kr/wpv5', '▲모임', '자제', '및', '기본방역수칙', '준수', '바랍니다', '.', '[', '하동군청', ']', '2022.3.4', '(', '금', ')', ',', '15:00기준', '확진자', '74명', '발생', '(', '관내68', ',', '관외6', ')', ',', '재택치료자', '등', '행동요령', 'https', ':', '//c11.kr/wpv5', '참고바랍니다', '.', '[', '산청군청', ']', '3월4일', '(', '금', ')', '15시', '기준', '확진자', '79명', '발생▲개인', '방역수칙', '준수▲유증상시', '신속항원검사▲관내', '취약시설', '확진자', '발생', '급증', ',', '시설', '이용자는', '주의바랍니다', '.', '[', '보은군청', ']', '3.4', '.', '(', '금', ')', '15시기준', '확진자', '106명발생', '(', '관내82', ',', '관외24', ')', '▲수동감시자KF94마스크▲선별진료소평일09:00~16:00', '주말휴일09:00~12:00', '[', '김제시청', ']', '김제시호흡기전담클리닉', '(', '우석병원', ')', '3월', '휴일없이운영', '(', '평일.주말.공휴일09:00~16:00', ')', '유증상자', '및', '희망자는', '방문하여', '코로나19', '검사받으시기', '바랍니다', '.', '[', '영덕군청', ']', '3', '.', '4', '.', '(', '금', ')', '18시', '연안사고', '주의보', '발령', '.', '해안가', '강풍과', '높은', '파도로', '인명피해', '우려', '.', '낚시', ',', '방문객', '등', '안전에', '주의바랍니다', '(', '054-502-2348', ')', '[', '전남도청', ']', '도내', '산과', '들판이', '매우', '건조', ',', '작은', '불씨도', '산불로', '번질', '위험이', '큽니다', '.', '√산과', '가까운', '곳에서', '논밭두렁', ',', '영농폐기물', '등을', '절대', '태우지', '마시기', '바랍니다', '.', '[', '울진군청', ']', '울진군', '북면', '두천리', '산불', '확산', '중', '.', '인근', '북면', '죽변면', '주민과', '등산객은', '산에서', '멀리', '떨어진', '안전한', '곳', '(', '부구초등학교', '등', ')', '으로', '즉시', '대피하시기', '바랍니다', '.', '[', '삼척시청', ']', '3.4', '(', '금', ')', '14시기준', '확진자', '224명▲주말', '타지역', '방문·만남', '등', '사적모임', '자제▲올바른', '마스크착용▲재택치료지침', 'https', ':', '//bit.ly/3BK8O4H', '[', '서천군청', ']', '3.4', '.', '(', '금', ')', '14시기준', '신규확진자', '141명', '(', '접촉41명', ',', '조사중82명', ',', '타지역18명', ')', '▲보건소', '신속항원검사', '음성확인서', '발급', '중단▲개인별', '방역수칙', '준수바랍니다', '[', '경상북도청', ']', '오늘', '오후부터', '내일', '새벽까지', '경북지역에', '강한', '바람이', '예상됩니다', '.', '시설물', '관리와', '산불', '및', '화재에', '주의하시기', '바랍니다', '.', '[', '안동시청', ']', '금일', '오후들어', '관내', '강한', '바람으로', '인해', '산불발생', '위험이', '높습니다', '.', '산림인접지', '소각금지', ',', '재처리주의', ',', '입산', '시', '흡연금지', '등', '산불예방에', '협조', '바랍니다', '.', '[', '남해군청', ']', '3.4', '(', '금', ')', '14:00기준', '확진자', '103명', '(', '관내41', ',', '타지역', '접촉5', ',', '타지역', '거주3', ',', '해외1', ',', '조사중53', ')', '▶개학기', '올바른', '마스크', '착용▶유증상시', '검사바랍니다', '.', '[', '동해시청', ']', '3.4', '.', '(', '금', ')', '14시', '기준', ',', '확진자', '288명', '발생▲마스크', '착용', '(', 'KF94', '권고', ')', ',', '주기적인', '환기·소독', '등', '기본방역수칙', '철저', '준수바랍니다.', '[', '곡성군청', ']', '3.04', '.', '(', '금', ')', '확진자49명발생', '(', '신속항원21', ',', '확진자접촉14', ',', '해제전검사7', ',', '유증상5', ',', '타지역2', ')', '▲의심증상시', '검사', '바랍니다.', '(', '재택치료상담', ')', '061-360-8995', '[', '사천시청', ']', '3.4', '.', '(', '금', ')', '14시', '기준', '확진자', '391명', '발생', '▲코로나19', '지역확산', '심각▲타지역', '방문·모임', '자제▲위생관리', '철저▲유증상', '시', '즉시', '검사', '받으시기', '바랍니다', '.', '[', '부여군청', ']', '3월4일', '확진자204명발생', '신속항원검사', '음성확인서', '발급시', '호흡기진료', '지정의료기관', '(', '성요셉연합의원', ',', '부여이비인후과', ',', '서울연합내과', ')', '에서', '발급가능/보건소', '발급중단', '[', '성동구청', ']', '오늘11:21경', '성동구', '성수동2가', '269-57', '공장', '화재발생으로', '교통정체', '예상', '.', '이', '지역을', '우회하여', '주시고', '인근', '주민은', '안전사고', '발생에', '유의', '바랍니다', '.', '[', '전주시청', ']', '3.4', '(', '금', ')', '현재기준', '2,291명', '발생', '(', '전일', '2,840명', ')', '/모임', '및', '외출자제', '등', '방역수칙', '준수', ',', '의심증상', '발생시', '선별진료소에', '방문하여', '검사', '바랍니다', '.', '[', '울진군청', ']', '울진군', '북면', '두천리', '산불', '확산이', '우려되니', ',', '상당리', ',', '두천리', ',', '하당리', ',', '사계리', '인근', '주민과', '등산객은', '안전한', '곳', '(', '주인분교', ')', '으로', '대피하시기', '바랍니다', '.', '[', '서울경찰청', ']', '하남시에서', '목격된', '최병욱씨', '(', '남', ',', '66세', ')', '를', '찾고', '있습니다', '-', '157cm', ',', '60kg', ',', '남색패딩', ',', '검정바지', ',', '검정운동화', 'vo.la/nbsRKG', '/', '☎182', '[', '장수군청', ']', '3', '.', '4', '.', '(', '금', ')', '현재기준', '확진자', '25명', '발생/', '방역수칙', '준수/', '타지역', '방문', '자제/', '백신', '예방접종', '권고', 'https', ':', '//www.jangsu.go.kr/', '[', '고성군청', ']', '3', '.', '4', '.', '11시', '기준', ',', '확진자', '219명', '(', '고성2386~2604/조사중126', ',', '관내', '확진자', '접촉93', ')', '▲사적모임', '자제▲개인', '방역수칙', '준수', '[', '서울시청', ']', '3.4', '(', '금', ')', '0시', '서울시', '신규확진자', '59,269명', 'bit.ly/3o0icfp', '/', '외래진료센터', '이용', '안내', 'bit.ly/36gB03j', '☎120', '[', '정선군청', ']', '3.4', '.', '(', '금', ')', '신규확진자', '102명', '발생', '▲', '(', '백신예약', ')', '18세', '이상', '미접종자', '노바백스백신', '정선군보건소에서', '예약바랍니다', '.', '(', '콜센터', ')', '033-560-2116', '[', '익산시청', ']', '코로나', '백신', '미접종군인', '11세', '이하', '발생율이', '높은', '상황입니다', '.', '외출자제', ',', 'KF94마스크', '상시착용', ',', '수시로', '환기', '.', '손씻기', '등', '안전지도', '부탁드립니다', '.', '[', '춘천시청', ']', '3', '.', '4', '.', '(', '금', ')', '0시', '기준', '확진자', '1,367명', '.', '▲대면모임·행사', '자제', '▲주기적인', '환기', '▲보건용', '마스크', '착용', '등', '개인방역', '철저', '당부드립니다.', '[', '속초시청', ']', '3.3', '.', '(', '목', ')', '311명', '확진', '(', '속초시민', '269', ',', '타지역', '42', ')', '▲', '개인방역철저', '▲', '증상', '의심시', '선별진료소', '방문', '(', '09~16시', ')', '바랍니다', '.', '[', '양양군청', ']', '3.3', '(', '목', ')', '37명', '확진', '(', '양양군민', '33', ',', '타지역', '4', ')', '발생', '▲가족', ',', '지인', '간', '모임자제', '▲마스크착용', '등', '개인방역수칙', '준수바랍니다', '.', '[', '원주시청', ']', '3', '.', '3', '.', '(', '목', ')', '확진자', '1,420명', '발생', '(', '누적', '19,911명', ')', '▲올바른', '마스크', '착용', ',', '사적', '모임', '규모·시간', '최소화', '등', '개인방역', '수칙', '준수', '바랍니다', '.', '[', '진안군청', ']', '3.4', '.', '(', '금', ')', '현재기준', '확진자', '41명', '발생', '.', '의심증상', '발생시', '선별진료소', '검사', '바랍니다', '.', 'https', ':', '//www.jinan.go.kr/index.jinan', '[', '제주특별자치도', ']', '4일', '0시기준', ',', '신규', '확진자', '3,399명', '발생', '(', '누적확진40,870명', ',', '완치', '25,654명', ',', '사망', '27명', ')', 'covid19.jeju.go.kr', '[', '광주광역시', ']', '시청', '선별검사소의', '경우', '14시부터', '16시까지는', '대기인원이', '많습니다', '.', '대기시간이', '짧은', '16시', '이후', '방문을', '권장합니다', '.', '[', '광주광역시', ']', '코로나19', '선별진료소', ',', '임시검사소', '운영', '안내▶보건소:9시~20시', '▶광주시청', '야외음악당:14시~22시', '▶하남3지구주차타워2', '(', '하남울로13', ')', ':13시~21시', '[', '시흥시청', ']', '3월', '4일', '0시', '확진자', '3345명', '발생', '▲시흥시', '코로나19', '지정의료기관', '확인', '(', 'https', ':', '//vvd.bz/bizl', ')', '▲3차접종', '참여', '바랍니다', '.', '[', '성남시청', ']', '3.04일', '확진자', '5,200명', '발생', '.', '코로나19', '예방접종', '참여와', '방역수칙을', '준수하여', '주시기', '바랍니다', '.', 'corona.seongnam.go.kr', '[', '무주군청', ']', '3', '.', '4', '.', '(', '금', ')', '11시', '기준', '확진자', '68명', '발생', '(', '관외8', ',', '관내60', ')', '▲기본방역수칙', '준수▲모임과', '만남을', '최대한', '자제하시고', '유증상시', '진단검사', '바랍니다', '.', '[', '평창군청', ']', '3.4', '.', '(', '금', ')', '평창군', '확진자', '106명', '(', '1,658번~1,763번', ')', '발생', '.', '관내', '96명', ',', '타지역10명', ',', '개인간', '접촉', '제발', '자제', '부탁드립니다', '.', '[', '행정안전부', ']', '내일', '(', '5일', ')', '까지', '강한', '바람이', '예상됩니다', '.', '시설물', '낙하', '사고', ',', '산불', '및', '시설물', '화재', ',', '해안가', '사고', '등', '안전에', '유의하시기', '바랍니다', '.', '[', '성주군', ']', '▲3.4', '.', '(', '금', ')', '코로나19', '확진자', '79명', '(', '관내71', ',', '타지역8', ')', '발생▲마스크', '착용', '철저▲타지역방문', '및', '모임', '자제▲유증상시', '즉시', '검사', '[', '서산시청', ']', '3월', '4일', '(', '금', ')', '11시기준', '확진자', '748명발생', '(', '8497~9244번', ')', '▲', 'KF94', '마스크', '착용', ',', '손씻기', '등', '개인방역수칙', '준수바랍니다', '.', '[', '안산시청', ']', '3월', '4일', '0시기준', '확진자', '3902명', '발생▲재택치료', '24시간', '상담', '(', '상담원', '100여명', '대기', ')', '▲상록수보건소', '1533·0500▲단원보건소', '1533·0600', '[', '부산시', ']', '자택에서', '자가검사키트', '양성이면', ',', '선별진료소에', '꼭', '방문하시기', '바랍니다', '.', '3.4', '.', '(', '금', ',', '0시기준', ')', '코로나19', '확진자', '23,198명', '(', '국내23,198', '해외0', ')', '[', '단양군청', ']', '3.4', '.', '(', '금', ')', '11:00기준', '확진자', '117명', '발생', '(', '타지역4명', '포함', ')', '.', '코로나', '확산방지를', '위해', '마스크', '착용', ',', '손', '씻기', '등', '방역수칙', '준수', '바랍니다', '.', '[', '광명시청', ']', '3월', '4일', '0시', '기준', '확진자', '1,984명', '발생', '▶코로나19', '확진과', '관련된', '상담은', '광명시재택치료행정안내센터', '02-2680-2898로', '문의', '바랍니다', '.', '[', '용인시청', ']', '3월4일', '0시기준', '확진자', '5,831', '(', '처인1,298', '기흥2,624', '수지1,909', ')', '백신접종', '참여와', '마스크착용', '등', '개인방역수칙을', '준수하여', '주시기', '바랍니다', '.', '[', '안양시청', ']', '▲', '3.4', '.', '(', '목', ')', '0시', '기준', '신규확진자', '2,290명', '발생', '▲18세', '이상', '미접종자', '노바백스', '백신', '접종', '가능', 'ncvr2.kdca.go.kr', '[', '영광군청', ']', '전일', '확진자', '중', '사업장31', '%', ',', '소아·청소년32', '%', '발생△의료기관', ',', '요양병원·시설', '감염', '지속△가족·지인간', '산발적', '전염', '발생△외출자제', ',', '만남은', '짧게', ',', '환기는', '필수', '[', '횡성군청', ']', '3.3', '.', '(', '목', ')', '확진자', '148명', '발생', '(', '누적1,839명', ')', '▲', '사적', '모임', '및', '타지역', '방문', '자제', '▲마스크', '착용', ',', '환기', '등', '개인방역수칙', '준수', '바랍니다.', '[', '남원시청', ']', '▲3.4', '.', '(', '금', ')', '08시기준', ',', '확진자294명발생', '(', '남원3,596~3,889번', ')', '/확진자의접촉자', '82명', ',', '조사중212명▲사적모임', ',', '타지역방문자제/유증상시', '즉시검사', '!', '[', '아산시청', ']', '3월', '3일', '확진자', '1379명', '/', '대통령선거', '사전투표소', '입장', '시', '마스크를', '반드시', '착용하고', '다른', '유권자와', '거리두기', '등', '방역수칙을', '준수하여', '주시기', '바랍니다', '[', '완주군청', ']', '3월', '4일', '(', '금', ')', '0시', '기준', '확진자', '358명발생', '▲행사', ',', '외출', ',', '모임자제▲마스크', '착용▲주기적인', '환기▲방역수칙', '준수▲재택치료', '안내', 'c11.kr/wpv5', '[', '김해시청', ']', '3월', '4일', '0시', '기준', '확진자', '3080명', '발생', '(', '관내', '거주', '2969', ',', '타지역', '거주', '111', ')', '/', 'vo.la/E242P', '참고바랍니다', '[', '청주시청', ']', '3월3일', '확진자', '3,794명', '발생', '(', '상당구916', ',', '서원구727', ',', '흥덕구1,283', ',', '청원구714', ',', '타지역154', ')', '▲홈페이지', '참조▲수시환기', '등', '방역수칙', '준수', '바랍니다', '[', '임실군청', ']', '3.4', '.', '(', '금', ')', '10시', '기준', '확진자', '67명', '발생', '/', '개인', '방역수칙', '준수', '/', '타지역', '방문', '자제', '/', '유증상시', '즉시', '검사', '받으시기', '바랍니다', '.', '[', '영월군청', ']', '3.4', '.', '(', '금', ')', '확진자', '56명', '발생', '/', '재택치료자는', '필요시', '병의원을', '통해', '전화상담', '및', '처방이', '가능하오니', '군', '홈페이지를', '참고바랍니다', '.', '[', '포천시청', ']', '3월', '4일', '0시', '기준', '확진자', '832명', '(', '내국인', '804명/외국인', '28명', ')', '발생', '.', '마스크', '착용', '및', '방역수칙을', '준수', '바랍니다', '.', 'c11.kr/xfr9', '[', '양구군청', ']', '3.4', '.', '(', '금', ')', '0시', '기준', '양구군', '확진자', '83명', '발생', '(', '학생', '14명', ',', '군인', '15명', ',', '타지역', '5명', ',', '관내주민', '49명', ')', '▲가족', ',', '지인', '간', '사적', '모임', '자제바랍니다', '.', '[', '고창군청', ']', '3.4', '(', '금', ')', '09:00기준확진자140명', '(', '1911~2050번', ')', '격리자3', ',', '타지역거주4', ',', '격리중8', ',', '관내접촉125▲가족', '지인', '간', '모임방문자제▲증상발현시', '신속항원검사', '[', '순창군청', ']', '3.4', '.', '(', '금', ')', '10시', '기준', '확진자', '57명', '발생', '(', '접촉자18', ',', '조사중33', ',', '타지역6', ')', '▲재택치료자', '및', '동거인', '행동요령', 'https', ':', '//c11.kr/wpv5', '[', '부천시청', ']', '3월4일', '(', '금', ')', '00:00', '기준', '코로나19', '확진자', '4,949명', '발생', ',', '부천시', '홈페이지', '(', '코로나19', '대응현황', ')', '참조하시기', '바랍니다', '.', '[', '대구시', ']', '4일', '0시', '기준', '확진자', '9,494명', '(', '달서구2311', ',', '북구1772', ',', '수성구1490', ',', '동구1226', ',', '달성군1061', ',', '남구589', ',', '서구507', ',', '중구290', ',', '타지역248', ')', '.', '[', '대전광역시', ']', '오늘', '0시', '기준', ',', '어제', '하루', '총', '5,958명', '추가', '발생', '(', '동구', '840', ',', '중구', '891', ',', '서구', '1,949', ',', '유성구', '1,658', ',', '대덕구', '620', ')', '[', '진천군청', ']', '▲3.3', '.', '코로나19', '확진자', '441명', '(', '관내347', ',', '관외', '94', ')', '▲손씻기', ',', '마스크착용', '등', '방역수칙', '준수', '▲코로나19', '추가접종', '늦지않게', '참여바랍니다', '[', '합천군청', ']', '3.4', '.', '(', '금', ')', '9시', '기준', '확진자', '91명', '발생', '(', '합천군민', '80', ',', '타지역', '11', ')', ',', '재택치료자', '등', '행동요령', 'https', ':', '//c11.kr/wpv5', '참고바랍니다', '[', '화성시청', ']', '3월', '4일', '0시', '기준', ',', '확진자', '5,111명', '발생', '▲', '재택치료', '코로나19', '행정안내센터', '24시간', '상담운영', '☎', '031-5189-1200', '[', '함양군청', ']', '3.4', '(', '금', ')', '10시기준', '확진자', '105명', '발생', '▶백신접종', ',', '방역수칙', '준수가', '최선입니다', '.', '▶재택치료자', '생활수칙', '안내', '(', 'http', ':', '//c11.kr/wpv5', ')', '[', '김포시청', ']', '3.4', '0시', '기준', '코로나19', '확진자', '2,928명', '발생▲', '김포시블로그', 'vo.la/2rYsMc', '참고▲', '마스크착용', '등', '방역수칙을', '철저히', '준수하시기', '바랍니다', '.', '[', '세종시청', ']', '전일', '(', '3.3', '.', ')', '확진자', '1,577명', '▲방역패스', '잠정중단', ',', '보건소', '코로나19', '음성확인서', '발급중단', '▲사적모임', '6인', ',', '영업시간', '22시까지', '▲기본방역수칙', '준수', '[', '전남도청', ']', '코로나19', '확진자는', '3.5', '.', '(', '토', ')', '17시~18시까지', '사전투표장', '도착하여', ',', '감염확인', '문자메시지', '(', '관할', '보건소', '발송', ')', '제시', '후', '투표', '가능', '[', '수원시청', ']', '3월', '4일', '0시', '기준', '수원확진', '6,382명', '발생', '.', '의심', '증상', '있으면', '가까운', '임시선별검사소', '또는', '병·의원에서', '신속항원검사', '.', 'me2.kr/0ter4', '[', '파주시청', ']', '3월4일', '0시기준', '확진자', '2345명', '발생', '.', 'PCR검사는', '여유있는', '오후에', '방문바랍니다', '.', '결과는', '다음날', '오전', ',', '오후', '검사자', '모두', '동일한', '시간에', '통보됩니다', '.', '[', '전남도청', ']', '3.4', '.', '(', '금', ')', '~', '3.5', '.', '(', '토', ')', '6시~18시까지', '대통령선거', '사전투표에', '방역수칙을', '철저히', '준수하여', '참여', '바랍니다', '.', '[', '경상북도청', ']', '3/4', '0시', '기준', '코로나19', '신규확진자', '(', '군위55의성107청송60영양18영덕85청도94고령100성주79칠곡296예천174봉화65울진149울릉6', ')', '[', '울산광역시', ']', '3.4', '.', '0시기준', '코로나19확진자', '5,813명', '(', '중구965', '남구1,679', '동구842', '북구1,307', '울주1,020', ')', '확진자', '최대', ',', '대면접촉', '줄이기', '바랍니다', '[', '하남시청', ']', '3/4', '(', '금', ')', '0시', '신규', '확진자', '1,762명', '발생', 'c11.kr/xfpz', '/', '코로나19', '예방접종에', '참여해', '주시기', '바랍니다', '.', 'ncvr.kdca.go.kr', '[', '경상북도청', ']', '3/4', '0시', '기준', '코로나19', '신규확진자', '8,382명', '(', '포항1772경주878김천331안동478구미1518영주428영천249상주210문경231경산999', ')', '[', '행정안전부', ']', '오늘', '10시00분', '경북', '(', '경산', ',', '경북북동산지', ')', ',', '대구', '건조경보', ',', '입산시', '화기소지', '및', '논두렁', ',', '폐기물', '소각', '금지', '등', '화재에', '주의바랍니다', '.', '[', '평택시', ']', '확진자', '(', '평택시민3,532명', ')', '발생/재택치료자', '의료상담', '콜센터', '4개소를', '24시간', '운영하고', '있으니', '평택시', '블로그를', '참고하시기', '바랍니다', '.', '[', '화천군청', ']', '3월', '3일', '(', '목', ')', '화천군', '확진자', '32명', '(', '군장병', '9', ',', '타지역민', '7', ')', '발생', '▲코로나', '확산방지를', '위해', '모임', '및', '타지역', '방문자제와', '개인', '방역수칙', '준수바랍니다', '.', '[', '부산경찰청', ']', '연제구에서', '실종된', '장병연씨', '(', '남', ',', '82세', ')', '를', '찾습니다', '-', '174cm', ',', '70kg', ',', '검정', '점퍼', ',', '곤색바지', ',', '검정캡모자', 'vo.la/y5asB', '/', '☎182', '[', '인천시', ']', '3월4일', '0시기준', '코로나19', '확진', '16,683명', '발생', '.', '대통령', '선거', '투표권이', '있는', '확진자와', '격리자는', '관할', '보건소의', '안내', '문자에', '따라', '투표가', '가능합니다', '.', '[', '거창군청', ']', '3', '.', '4', '.', '(', '금', ')', '09시', '기준', '확진자', '177명', '발생', '▲지역', '내', '확진자', '증가', '▲이동·만남·외출', '자제', '▲일상생활', '방역준수', '▲3차예방접종', '적극', '참여바랍니다', '.']\n"
     ]
    }
   ],
   "source": [
    "tokenized_word=word_tokenize(cbs_total)\n",
    "print(tokenized_word)"
   ]
  },
  {
   "cell_type": "code",
   "execution_count": 127,
   "metadata": {},
   "outputs": [
    {
     "name": "stdout",
     "output_type": "stream",
     "text": [
      "<FreqDist with 969 samples and 2443 outcomes>\n"
     ]
    }
   ],
   "source": [
    "from nltk.probability import FreqDist\n",
    "fdist = FreqDist(tokenized_word)\n",
    "print(fdist)"
   ]
  },
  {
   "cell_type": "code",
   "execution_count": 131,
   "metadata": {},
   "outputs": [
    {
     "data": {
      "text/plain": [
       "[('.', 132),\n",
       " (',', 129),\n",
       " ('(', 127),\n",
       " (')', 127),\n",
       " ('[', 100),\n",
       " (']', 100),\n",
       " ('확진자', 55),\n",
       " ('금', 42),\n",
       " ('발생', 41),\n",
       " ('바랍니다', 38),\n",
       " ('등', 30),\n",
       " ('3.4', 28),\n",
       " ('기준', 25),\n",
       " ('코로나19', 19),\n",
       " ('및', 17)]"
      ]
     },
     "execution_count": 131,
     "metadata": {},
     "output_type": "execute_result"
    }
   ],
   "source": [
    "fdist.most_common(15)"
   ]
  },
  {
   "cell_type": "code",
   "execution_count": 129,
   "metadata": {},
   "outputs": [],
   "source": [
    "# 한글 폰트 사용을 위해서 세팅\n",
    "from matplotlib import font_manager, rc\n",
    "font_path = \"C:/Windows/Fonts/NGULIM.TTF\"\n",
    "font = font_manager.FontProperties(fname=font_path).get_name()\n",
    "rc('font', family=font)"
   ]
  },
  {
   "cell_type": "code",
   "execution_count": 130,
   "metadata": {},
   "outputs": [
    {
     "data": {
      "image/png": "[encoded data removed]",
      "text/plain": [
       "<Figure size 432x288 with 1 Axes>"
      ]
     },
     "metadata": {
      "needs_background": "light"
     },
     "output_type": "display_data"
    }
   ],
   "source": [
    "import matplotlib.pyplot as plt\n",
    "fdist.plot(30,cumulative=False)\n",
    "plt.show()"
   ]
  },
  {
   "cell_type": "code",
   "execution_count": null,
   "metadata": {},
   "outputs": [],
   "source": []
  },
  {
   "cell_type": "code",
   "execution_count": null,
   "metadata": {},
   "outputs": [],
   "source": []
  },
  {
   "cell_type": "code",
   "execution_count": null,
   "metadata": {},
   "outputs": [],
   "source": []
  },
  {
   "cell_type": "code",
   "execution_count": null,
   "metadata": {},
   "outputs": [],
   "source": []
  },
  {
   "cell_type": "code",
   "execution_count": null,
   "metadata": {},
   "outputs": [],
   "source": []
  },
  {
   "cell_type": "code",
   "execution_count": null,
   "metadata": {},
   "outputs": [],
   "source": []
  }
 ],
 "metadata": {
  "kernelspec": {
   "display_name": "Python 3",
   "language": "python",
   "name": "python3"
  },
  "language_info": {
   "codemirror_mode": {
    "name": "ipython",
    "version": 3
   },
   "file_extension": ".py",
   "mimetype": "text/x-python",
   "name": "python",
   "nbconvert_exporter": "python",
   "pygments_lexer": "ipython3",
   "version": "3.7.4"
  },
  "toc": {
   "base_numbering": 1,
   "nav_menu": {},
   "number_sections": true,
   "sideBar": true,
   "skip_h1_title": false,
   "title_cell": "Table of Contents",
   "title_sidebar": "Contents",
   "toc_cell": false,
   "toc_position": {},
   "toc_section_display": true,
   "toc_window_display": false
  }
 },
 "nbformat": 4,
 "nbformat_minor": 4
}
