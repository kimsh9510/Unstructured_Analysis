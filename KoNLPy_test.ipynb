{
 "cells": [
  {
   "cell_type": "code",
   "execution_count": 2,
   "metadata": {},
   "outputs": [],
   "source": [
    "import platform"
   ]
  },
  {
   "cell_type": "code",
   "execution_count": 3,
   "metadata": {},
   "outputs": [
    {
     "name": "stdout",
     "output_type": "stream",
     "text": [
      "('64bit', 'WindowsPE')\n"
     ]
    }
   ],
   "source": [
    "print(platform.architecture())"
   ]
  },
  {
   "cell_type": "code",
   "execution_count": 4,
   "metadata": {},
   "outputs": [
    {
     "name": "stdout",
     "output_type": "stream",
     "text": [
      "['대한민국', '저', '의', '21대', '국회의원', '서', 'ㄴ', '것', '이', '는', '2020년', '.']\n"
     ]
    }
   ],
   "source": [
    "#여러가지 형태소 분석기가 있다\n",
    "from konlpy.tag import Hannanum #형태소 나눠주는 것\n",
    "from konlpy.tag import Okt #각 형태소 별로 분류(Tagging 작업)\n",
    "hannanum = Hannanum()\n",
    "print(hannanum.morphs(u'대한민국 제 21대 국회의원 선거는 2020년.'))"
   ]
  },
  {
   "cell_type": "code",
   "execution_count": 5,
   "metadata": {},
   "outputs": [
    {
     "name": "stdout",
     "output_type": "stream",
     "text": [
      "[('[', 'Punctuation'), ('영동', 'Noun'), ('군청', 'Noun'), (']', 'Punctuation'), ('코로나', 'Noun'), ('19', 'Number'), ('확진', 'Noun'), ('159', 'Number'), ('명', 'Noun'), ('(', 'Punctuation'), ('확', 'Noun'), ('진자', 'Noun'), ('접촉', 'Noun'), ('56', 'Number'), (',', 'Punctuation'), ('증상', 'Noun'), ('발현', 'Noun'), ('101', 'Number'), (',', 'Punctuation'), ('무증상', 'Noun'), ('2', 'Number'), (')', 'Punctuation'), ('▲', 'Foreign'), ('검사', 'Noun'), ('실시', 'Noun'), ('.', 'Punctuation')]\n",
      "['영동', '군청', '코로나', '확진', '명', '확', '진자', '접촉', '증상', '발현', '무증상', '검사', '실시']\n"
     ]
    }
   ],
   "source": [
    "if __name__=='__main__':\n",
    "    tagger=Okt()\n",
    "    part_of_speech = tagger.pos('[영동군청]코로나19 확진 159명(확진자접촉 56, 증상발현 101, 무증상 2) ▲검사 실시.')\n",
    "    print(part_of_speech) #튜플 형태로 출력\n",
    "    noun_list = tagger.nouns('[영동군청]코로나19 확진 159명(확진자접촉 56, 증상발현 101, 무증상 2) ▲검사 실시.')\n",
    "    print(noun_list) #리스트 형식으로 출력\n",
    "    "
   ]
  },
  {
   "cell_type": "code",
   "execution_count": 13,
   "metadata": {},
   "outputs": [],
   "source": [
    "import pandas as pd\n",
    "from sklearn.feature_extraction.text import CountVectorizer"
   ]
  },
  {
   "cell_type": "code",
   "execution_count": 20,
   "metadata": {},
   "outputs": [],
   "source": [
    "# if __name__=='__main__':\n",
    "#     #원하는 열 이름을 title_list에 저장해둠\n",
    "#     t_file_name = open('C:/Users/seon/Title_List.txt','r',encoding='utf-8')\n",
    "#     title_list=[]\n",
    "#     for line in t_file_name.readlines():\n",
    "#         title_list.append(line[:-1])\n",
    "#     t_file_name.close()\n",
    "    \n",
    "#     #csv파일 불러오기\n",
    "#     dataset = pd.read_csv('C:/Users/seon/data.csv')\n",
    "    \n",
    "#     tagger = Okt()\n",
    "#     for title in title_list:\n",
    "#         #DTM 표현\n",
    "#         cv = CountVectorizer()\n",
    "#         corpus  = []\n",
    "        \n",
    "#         for doc_num in range(250653):\n",
    "#             noun_list = tagger.nouns(dataset[title].loc[doc_num])\n",
    "#             corpus.append(''.join(noun_list))\n",
    "#     DTM_Array = cv.fit_transform(corpus).toarray()\n",
    "#     feature_names = cv.get_feature_names()\n",
    "#     DTM_DataFrame = pd.DataFrame(DTM_Array,columns=feature_names)\n",
    "#     DTM_DataFrame.to_csv('C:/Users/seon/DTM.csv',encoding='utf-8-sig')\n",
    "            "
   ]
  },
  {
   "cell_type": "code",
   "execution_count": 21,
   "metadata": {},
   "outputs": [],
   "source": [
    "import numpy as np\n",
    "import pandas as pd\n",
    "import io\n",
    "import re"
   ]
  },
  {
   "cell_type": "code",
   "execution_count": 52,
   "metadata": {},
   "outputs": [
    {
     "data": {
      "text/html": [
       "<div>\n",
       "<style scoped>\n",
       "    .dataframe tbody tr th:only-of-type {\n",
       "        vertical-align: middle;\n",
       "    }\n",
       "\n",
       "    .dataframe tbody tr th {\n",
       "        vertical-align: top;\n",
       "    }\n",
       "\n",
       "    .dataframe thead th {\n",
       "        text-align: right;\n",
       "    }\n",
       "</style>\n",
       "<table border=\"1\" class=\"dataframe\">\n",
       "  <thead>\n",
       "    <tr style=\"text-align: right;\">\n",
       "      <th></th>\n",
       "      <th>create_date</th>\n",
       "      <th>location_id</th>\n",
       "      <th>location_name</th>\n",
       "      <th>md101_sn</th>\n",
       "      <th>msg</th>\n",
       "      <th>send_platform</th>\n",
       "    </tr>\n",
       "  </thead>\n",
       "  <tbody>\n",
       "    <tr>\n",
       "      <th>0</th>\n",
       "      <td>2022/03/08 13:54:33</td>\n",
       "      <td>84</td>\n",
       "      <td>경상북도 성주군</td>\n",
       "      <td>146496</td>\n",
       "      <td>[성주군] ▲3.8.(화) 코로나19 확진자 67명(관내56,타지역11) 발생▲마스...</td>\n",
       "      <td>cbs</td>\n",
       "    </tr>\n",
       "    <tr>\n",
       "      <th>1</th>\n",
       "      <td>2022/03/08 13:43:49</td>\n",
       "      <td>85</td>\n",
       "      <td>경상북도 안동시</td>\n",
       "      <td>146495</td>\n",
       "      <td>[안동시청] 관내 강한 바람으로 인해 대형 산불 발생 위험이 매우 높습니다. 산림 ...</td>\n",
       "      <td>cbs</td>\n",
       "    </tr>\n",
       "    <tr>\n",
       "      <th>2</th>\n",
       "      <td>2022/03/08 13:17:44</td>\n",
       "      <td>195</td>\n",
       "      <td>전라남도 완도군</td>\n",
       "      <td>146494</td>\n",
       "      <td>[완도군청] 목욕탕, 사우나 등 다중이용시설 확진자 급속확산 중 ▶KF마스크 착용,...</td>\n",
       "      <td>cbs</td>\n",
       "    </tr>\n",
       "    <tr>\n",
       "      <th>3</th>\n",
       "      <td>2022/03/08 13:10:43</td>\n",
       "      <td>212</td>\n",
       "      <td>전라북도 임실군</td>\n",
       "      <td>146493</td>\n",
       "      <td>[임실군청] 3.8.(화) 13시 기준 확진자 135명 발생 / 개인 방역수칙 준수...</td>\n",
       "      <td>cbs</td>\n",
       "    </tr>\n",
       "    <tr>\n",
       "      <th>4</th>\n",
       "      <td>2022/03/08 13:08:00</td>\n",
       "      <td>214</td>\n",
       "      <td>전라북도 전주시</td>\n",
       "      <td>146492</td>\n",
       "      <td>[전주시청]3.8(화) 현재기준 2,731명 발생(전일 2,577명) O방역수칙 준...</td>\n",
       "      <td>cbs</td>\n",
       "    </tr>\n",
       "  </tbody>\n",
       "</table>\n",
       "</div>"
      ],
      "text/plain": [
       "           create_date  location_id location_name  md101_sn  \\\n",
       "0  2022/03/08 13:54:33           84      경상북도 성주군    146496   \n",
       "1  2022/03/08 13:43:49           85      경상북도 안동시    146495   \n",
       "2  2022/03/08 13:17:44          195      전라남도 완도군    146494   \n",
       "3  2022/03/08 13:10:43          212      전라북도 임실군    146493   \n",
       "4  2022/03/08 13:08:00          214      전라북도 전주시    146492   \n",
       "\n",
       "                                                 msg send_platform  \n",
       "0  [성주군] ▲3.8.(화) 코로나19 확진자 67명(관내56,타지역11) 발생▲마스...           cbs  \n",
       "1  [안동시청] 관내 강한 바람으로 인해 대형 산불 발생 위험이 매우 높습니다. 산림 ...           cbs  \n",
       "2  [완도군청] 목욕탕, 사우나 등 다중이용시설 확진자 급속확산 중 ▶KF마스크 착용,...           cbs  \n",
       "3  [임실군청] 3.8.(화) 13시 기준 확진자 135명 발생 / 개인 방역수칙 준수...           cbs  \n",
       "4  [전주시청]3.8(화) 현재기준 2,731명 발생(전일 2,577명) O방역수칙 준...           cbs  "
      ]
     },
     "execution_count": 52,
     "metadata": {},
     "output_type": "execute_result"
    }
   ],
   "source": [
    "data = pd.read_csv('C:/Users/seon/data2.csv')\n",
    "data.head()"
   ]
  },
  {
   "cell_type": "code",
   "execution_count": 53,
   "metadata": {},
   "outputs": [
    {
     "data": {
      "text/html": [
       "<div>\n",
       "<style scoped>\n",
       "    .dataframe tbody tr th:only-of-type {\n",
       "        vertical-align: middle;\n",
       "    }\n",
       "\n",
       "    .dataframe tbody tr th {\n",
       "        vertical-align: top;\n",
       "    }\n",
       "\n",
       "    .dataframe thead th {\n",
       "        text-align: right;\n",
       "    }\n",
       "</style>\n",
       "<table border=\"1\" class=\"dataframe\">\n",
       "  <thead>\n",
       "    <tr style=\"text-align: right;\">\n",
       "      <th></th>\n",
       "      <th>msg</th>\n",
       "    </tr>\n",
       "  </thead>\n",
       "  <tbody>\n",
       "    <tr>\n",
       "      <th>0</th>\n",
       "      <td>[성주군] ▲3.8.(화) 코로나19 확진자 67명(관내56,타지역11) 발생▲마스...</td>\n",
       "    </tr>\n",
       "    <tr>\n",
       "      <th>1</th>\n",
       "      <td>[안동시청] 관내 강한 바람으로 인해 대형 산불 발생 위험이 매우 높습니다. 산림 ...</td>\n",
       "    </tr>\n",
       "    <tr>\n",
       "      <th>2</th>\n",
       "      <td>[완도군청] 목욕탕, 사우나 등 다중이용시설 확진자 급속확산 중 ▶KF마스크 착용,...</td>\n",
       "    </tr>\n",
       "    <tr>\n",
       "      <th>3</th>\n",
       "      <td>[임실군청] 3.8.(화) 13시 기준 확진자 135명 발생 / 개인 방역수칙 준수...</td>\n",
       "    </tr>\n",
       "    <tr>\n",
       "      <th>4</th>\n",
       "      <td>[전주시청]3.8(화) 현재기준 2,731명 발생(전일 2,577명) O방역수칙 준...</td>\n",
       "    </tr>\n",
       "  </tbody>\n",
       "</table>\n",
       "</div>"
      ],
      "text/plain": [
       "                                                 msg\n",
       "0  [성주군] ▲3.8.(화) 코로나19 확진자 67명(관내56,타지역11) 발생▲마스...\n",
       "1  [안동시청] 관내 강한 바람으로 인해 대형 산불 발생 위험이 매우 높습니다. 산림 ...\n",
       "2  [완도군청] 목욕탕, 사우나 등 다중이용시설 확진자 급속확산 중 ▶KF마스크 착용,...\n",
       "3  [임실군청] 3.8.(화) 13시 기준 확진자 135명 발생 / 개인 방역수칙 준수...\n",
       "4  [전주시청]3.8(화) 현재기준 2,731명 발생(전일 2,577명) O방역수칙 준..."
      ]
     },
     "execution_count": 53,
     "metadata": {},
     "output_type": "execute_result"
    }
   ],
   "source": [
    "cbs = data[['msg']]\n",
    "cbs.head()"
   ]
  },
  {
   "cell_type": "code",
   "execution_count": 54,
   "metadata": {},
   "outputs": [
    {
     "data": {
      "text/plain": [
       "'[성주군] ▲3.8.(화) 코로나19 확진자 67명(관내56,타지역11) 발생▲마스크착용 철저▲타지역방문 및 모임 자제▲유증상시 즉시 검사'"
      ]
     },
     "execution_count": 54,
     "metadata": {},
     "output_type": "execute_result"
    }
   ],
   "source": [
    "cbs.loc[0,'msg']"
   ]
  },
  {
   "cell_type": "code",
   "execution_count": 47,
   "metadata": {},
   "outputs": [],
   "source": [
    "k=0\n",
    "\n",
    "for i in cbs['msg']:\n",
    "    text = re.compile('[ㄱ-ㅎ|\\d\\ㅏ-ㅣ|가-힣]+').findall(i)\n",
    "    cbs.loc[k,'msg'] = ' '.join(text).strip()\n",
    "    k+=1"
   ]
  },
  {
   "cell_type": "code",
   "execution_count": 48,
   "metadata": {},
   "outputs": [
    {
     "data": {
      "text/plain": [
       "'안동시청관내강한바람으로인해대형산불발생위험이매우높습니다산림인접지소각금지재처리주의입산시흡연금지등산불예방에협조바랍니다'"
      ]
     },
     "execution_count": 48,
     "metadata": {},
     "output_type": "execute_result"
    }
   ],
   "source": [
    "cbs.loc[1,'msg']"
   ]
  },
  {
   "cell_type": "code",
   "execution_count": 56,
   "metadata": {},
   "outputs": [
    {
     "data": {
      "text/html": [
       "<div>\n",
       "<style scoped>\n",
       "    .dataframe tbody tr th:only-of-type {\n",
       "        vertical-align: middle;\n",
       "    }\n",
       "\n",
       "    .dataframe tbody tr th {\n",
       "        vertical-align: top;\n",
       "    }\n",
       "\n",
       "    .dataframe thead th {\n",
       "        text-align: right;\n",
       "    }\n",
       "</style>\n",
       "<table border=\"1\" class=\"dataframe\">\n",
       "  <thead>\n",
       "    <tr style=\"text-align: right;\">\n",
       "      <th></th>\n",
       "      <th>msg</th>\n",
       "      <th>msg_token</th>\n",
       "    </tr>\n",
       "  </thead>\n",
       "  <tbody>\n",
       "    <tr>\n",
       "      <th>0</th>\n",
       "      <td>[성주군] ▲3.8.(화) 코로나19 확진자 67명(관내56,타지역11) 발생▲마스...</td>\n",
       "      <td>[[, 성주군, ], ▲, 3.8, .(, 화, ), 코로나, 19, 확, 진자, ...</td>\n",
       "    </tr>\n",
       "    <tr>\n",
       "      <th>1</th>\n",
       "      <td>[안동시청] 관내 강한 바람으로 인해 대형 산불 발생 위험이 매우 높습니다. 산림 ...</td>\n",
       "      <td>[[, 안동시청, ], 관내, 강한, 바람, 으로, 인해, 대형, 산불, 발생, 위...</td>\n",
       "    </tr>\n",
       "    <tr>\n",
       "      <th>2</th>\n",
       "      <td>[완도군청] 목욕탕, 사우나 등 다중이용시설 확진자 급속확산 중 ▶KF마스크 착용,...</td>\n",
       "      <td>[[, 완도군청, ], 목욕탕, ,, 사우나, 등, 다중, 이용, 시설, 확, 진자...</td>\n",
       "    </tr>\n",
       "    <tr>\n",
       "      <th>3</th>\n",
       "      <td>[임실군청] 3.8.(화) 13시 기준 확진자 135명 발생 / 개인 방역수칙 준수...</td>\n",
       "      <td>[[, 임실군, 청, ], 3.8, .(, 화, ), 13시, 기준, 확, 진자, ...</td>\n",
       "    </tr>\n",
       "    <tr>\n",
       "      <th>4</th>\n",
       "      <td>[전주시청]3.8(화) 현재기준 2,731명 발생(전일 2,577명) O방역수칙 준...</td>\n",
       "      <td>[[, 전주, 시청, ], 3.8, (, 화, ), 현재, 기준, 2,731, 명,...</td>\n",
       "    </tr>\n",
       "  </tbody>\n",
       "</table>\n",
       "</div>"
      ],
      "text/plain": [
       "                                                 msg  \\\n",
       "0  [성주군] ▲3.8.(화) 코로나19 확진자 67명(관내56,타지역11) 발생▲마스...   \n",
       "1  [안동시청] 관내 강한 바람으로 인해 대형 산불 발생 위험이 매우 높습니다. 산림 ...   \n",
       "2  [완도군청] 목욕탕, 사우나 등 다중이용시설 확진자 급속확산 중 ▶KF마스크 착용,...   \n",
       "3  [임실군청] 3.8.(화) 13시 기준 확진자 135명 발생 / 개인 방역수칙 준수...   \n",
       "4  [전주시청]3.8(화) 현재기준 2,731명 발생(전일 2,577명) O방역수칙 준...   \n",
       "\n",
       "                                           msg_token  \n",
       "0  [[, 성주군, ], ▲, 3.8, .(, 화, ), 코로나, 19, 확, 진자, ...  \n",
       "1  [[, 안동시청, ], 관내, 강한, 바람, 으로, 인해, 대형, 산불, 발생, 위...  \n",
       "2  [[, 완도군청, ], 목욕탕, ,, 사우나, 등, 다중, 이용, 시설, 확, 진자...  \n",
       "3  [[, 임실군, 청, ], 3.8, .(, 화, ), 13시, 기준, 확, 진자, ...  \n",
       "4  [[, 전주, 시청, ], 3.8, (, 화, ), 현재, 기준, 2,731, 명,...  "
      ]
     },
     "execution_count": 56,
     "metadata": {},
     "output_type": "execute_result"
    }
   ],
   "source": [
    "cbs.head()"
   ]
  },
  {
   "cell_type": "code",
   "execution_count": 57,
   "metadata": {},
   "outputs": [],
   "source": [
    "def tokenizer(row):\n",
    "    return tagger.morphs(row)"
   ]
  },
  {
   "cell_type": "code",
   "execution_count": 58,
   "metadata": {},
   "outputs": [
    {
     "name": "stderr",
     "output_type": "stream",
     "text": [
      "C:\\Users\\seon\\Anaconda3\\lib\\site-packages\\ipykernel_launcher.py:1: SettingWithCopyWarning: \n",
      "A value is trying to be set on a copy of a slice from a DataFrame.\n",
      "Try using .loc[row_indexer,col_indexer] = value instead\n",
      "\n",
      "See the caveats in the documentation: https://pandas.pydata.org/pandas-docs/stable/user_guide/indexing.html#returning-a-view-versus-a-copy\n",
      "  \"\"\"Entry point for launching an IPython kernel.\n"
     ]
    },
    {
     "data": {
      "text/html": [
       "<div>\n",
       "<style scoped>\n",
       "    .dataframe tbody tr th:only-of-type {\n",
       "        vertical-align: middle;\n",
       "    }\n",
       "\n",
       "    .dataframe tbody tr th {\n",
       "        vertical-align: top;\n",
       "    }\n",
       "\n",
       "    .dataframe thead th {\n",
       "        text-align: right;\n",
       "    }\n",
       "</style>\n",
       "<table border=\"1\" class=\"dataframe\">\n",
       "  <thead>\n",
       "    <tr style=\"text-align: right;\">\n",
       "      <th></th>\n",
       "      <th>msg</th>\n",
       "      <th>msg_token</th>\n",
       "    </tr>\n",
       "  </thead>\n",
       "  <tbody>\n",
       "    <tr>\n",
       "      <th>0</th>\n",
       "      <td>[성주군] ▲3.8.(화) 코로나19 확진자 67명(관내56,타지역11) 발생▲마스...</td>\n",
       "      <td>[[, 성주군, ], ▲, 3.8, .(, 화, ), 코로나, 19, 확, 진자, ...</td>\n",
       "    </tr>\n",
       "    <tr>\n",
       "      <th>1</th>\n",
       "      <td>[안동시청] 관내 강한 바람으로 인해 대형 산불 발생 위험이 매우 높습니다. 산림 ...</td>\n",
       "      <td>[[, 안동시청, ], 관내, 강한, 바람, 으로, 인해, 대형, 산불, 발생, 위...</td>\n",
       "    </tr>\n",
       "    <tr>\n",
       "      <th>2</th>\n",
       "      <td>[완도군청] 목욕탕, 사우나 등 다중이용시설 확진자 급속확산 중 ▶KF마스크 착용,...</td>\n",
       "      <td>[[, 완도군청, ], 목욕탕, ,, 사우나, 등, 다중, 이용, 시설, 확, 진자...</td>\n",
       "    </tr>\n",
       "    <tr>\n",
       "      <th>3</th>\n",
       "      <td>[임실군청] 3.8.(화) 13시 기준 확진자 135명 발생 / 개인 방역수칙 준수...</td>\n",
       "      <td>[[, 임실군, 청, ], 3.8, .(, 화, ), 13시, 기준, 확, 진자, ...</td>\n",
       "    </tr>\n",
       "    <tr>\n",
       "      <th>4</th>\n",
       "      <td>[전주시청]3.8(화) 현재기준 2,731명 발생(전일 2,577명) O방역수칙 준...</td>\n",
       "      <td>[[, 전주, 시청, ], 3.8, (, 화, ), 현재, 기준, 2,731, 명,...</td>\n",
       "    </tr>\n",
       "  </tbody>\n",
       "</table>\n",
       "</div>"
      ],
      "text/plain": [
       "                                                 msg  \\\n",
       "0  [성주군] ▲3.8.(화) 코로나19 확진자 67명(관내56,타지역11) 발생▲마스...   \n",
       "1  [안동시청] 관내 강한 바람으로 인해 대형 산불 발생 위험이 매우 높습니다. 산림 ...   \n",
       "2  [완도군청] 목욕탕, 사우나 등 다중이용시설 확진자 급속확산 중 ▶KF마스크 착용,...   \n",
       "3  [임실군청] 3.8.(화) 13시 기준 확진자 135명 발생 / 개인 방역수칙 준수...   \n",
       "4  [전주시청]3.8(화) 현재기준 2,731명 발생(전일 2,577명) O방역수칙 준...   \n",
       "\n",
       "                                           msg_token  \n",
       "0  [[, 성주군, ], ▲, 3.8, .(, 화, ), 코로나, 19, 확, 진자, ...  \n",
       "1  [[, 안동시청, ], 관내, 강한, 바람, 으로, 인해, 대형, 산불, 발생, 위...  \n",
       "2  [[, 완도군청, ], 목욕탕, ,, 사우나, 등, 다중, 이용, 시설, 확, 진자...  \n",
       "3  [[, 임실군, 청, ], 3.8, .(, 화, ), 13시, 기준, 확, 진자, ...  \n",
       "4  [[, 전주, 시청, ], 3.8, (, 화, ), 현재, 기준, 2,731, 명,...  "
      ]
     },
     "execution_count": 58,
     "metadata": {},
     "output_type": "execute_result"
    }
   ],
   "source": [
    "cbs['msg_token'] = cbs['msg'].apply(tokenizer)\n",
    "cbs.head()"
   ]
  },
  {
   "cell_type": "code",
   "execution_count": 59,
   "metadata": {},
   "outputs": [
    {
     "name": "stderr",
     "output_type": "stream",
     "text": [
      "C:\\Users\\seon\\Anaconda3\\lib\\site-packages\\ipykernel_launcher.py:3: SettingWithCopyWarning: \n",
      "A value is trying to be set on a copy of a slice from a DataFrame.\n",
      "Try using .loc[row_indexer,col_indexer] = value instead\n",
      "\n",
      "See the caveats in the documentation: https://pandas.pydata.org/pandas-docs/stable/user_guide/indexing.html#returning-a-view-versus-a-copy\n",
      "  This is separate from the ipykernel package so we can avoid doing imports until\n"
     ]
    },
    {
     "data": {
      "text/html": [
       "<div>\n",
       "<style scoped>\n",
       "    .dataframe tbody tr th:only-of-type {\n",
       "        vertical-align: middle;\n",
       "    }\n",
       "\n",
       "    .dataframe tbody tr th {\n",
       "        vertical-align: top;\n",
       "    }\n",
       "\n",
       "    .dataframe thead th {\n",
       "        text-align: right;\n",
       "    }\n",
       "</style>\n",
       "<table border=\"1\" class=\"dataframe\">\n",
       "  <thead>\n",
       "    <tr style=\"text-align: right;\">\n",
       "      <th></th>\n",
       "      <th>msg</th>\n",
       "      <th>msg_token</th>\n",
       "    </tr>\n",
       "  </thead>\n",
       "  <tbody>\n",
       "    <tr>\n",
       "      <th>0</th>\n",
       "      <td>[성주군] ▲3.8.(화) 코로나19 확진자 67명(관내56,타지역11) 발생▲마스...</td>\n",
       "      <td>[성주군, 화, 코로나, 확, 진자, 명, 관내, 지역, 발생, 마스크, 착용, 철...</td>\n",
       "    </tr>\n",
       "    <tr>\n",
       "      <th>1</th>\n",
       "      <td>[안동시청] 관내 강한 바람으로 인해 대형 산불 발생 위험이 매우 높습니다. 산림 ...</td>\n",
       "      <td>[안동시청, 관내, 바람, 대형, 산불, 발생, 위험, 매우, 산림, 인접, 소각,...</td>\n",
       "    </tr>\n",
       "    <tr>\n",
       "      <th>2</th>\n",
       "      <td>[완도군청] 목욕탕, 사우나 등 다중이용시설 확진자 급속확산 중 ▶KF마스크 착용,...</td>\n",
       "      <td>[완도군청, 목욕탕, 사우나, 등, 다중, 이용, 시설, 확, 진자, 급속, 확산,...</td>\n",
       "    </tr>\n",
       "    <tr>\n",
       "      <th>3</th>\n",
       "      <td>[임실군청] 3.8.(화) 13시 기준 확진자 135명 발생 / 개인 방역수칙 준수...</td>\n",
       "      <td>[임실군, 청, 화, 기준, 확, 진자, 명, 발생, 개인, 방역, 칙, 준수, 지...</td>\n",
       "    </tr>\n",
       "    <tr>\n",
       "      <th>4</th>\n",
       "      <td>[전주시청]3.8(화) 현재기준 2,731명 발생(전일 2,577명) O방역수칙 준...</td>\n",
       "      <td>[전주, 시청, 화, 현재, 기준, 명, 발생, 전일, 명, 방역, 칙, 준수, 의...</td>\n",
       "    </tr>\n",
       "  </tbody>\n",
       "</table>\n",
       "</div>"
      ],
      "text/plain": [
       "                                                 msg  \\\n",
       "0  [성주군] ▲3.8.(화) 코로나19 확진자 67명(관내56,타지역11) 발생▲마스...   \n",
       "1  [안동시청] 관내 강한 바람으로 인해 대형 산불 발생 위험이 매우 높습니다. 산림 ...   \n",
       "2  [완도군청] 목욕탕, 사우나 등 다중이용시설 확진자 급속확산 중 ▶KF마스크 착용,...   \n",
       "3  [임실군청] 3.8.(화) 13시 기준 확진자 135명 발생 / 개인 방역수칙 준수...   \n",
       "4  [전주시청]3.8(화) 현재기준 2,731명 발생(전일 2,577명) O방역수칙 준...   \n",
       "\n",
       "                                           msg_token  \n",
       "0  [성주군, 화, 코로나, 확, 진자, 명, 관내, 지역, 발생, 마스크, 착용, 철...  \n",
       "1  [안동시청, 관내, 바람, 대형, 산불, 발생, 위험, 매우, 산림, 인접, 소각,...  \n",
       "2  [완도군청, 목욕탕, 사우나, 등, 다중, 이용, 시설, 확, 진자, 급속, 확산,...  \n",
       "3  [임실군, 청, 화, 기준, 확, 진자, 명, 발생, 개인, 방역, 칙, 준수, 지...  \n",
       "4  [전주, 시청, 화, 현재, 기준, 명, 발생, 전일, 명, 방역, 칙, 준수, 의...  "
      ]
     },
     "execution_count": 59,
     "metadata": {},
     "output_type": "execute_result"
    }
   ],
   "source": [
    "def tokenizer(row):\n",
    "    return tagger.nouns(row)\n",
    "cbs['msg_token'] = cbs['msg'].apply(tokenizer)\n",
    "cbs.head()\n",
    "    "
   ]
  },
  {
   "cell_type": "code",
   "execution_count": null,
   "metadata": {},
   "outputs": [],
   "source": []
  }
 ],
 "metadata": {
  "kernelspec": {
   "display_name": "Python 3",
   "language": "python",
   "name": "python3"
  },
  "language_info": {
   "codemirror_mode": {
    "name": "ipython",
    "version": 3
   },
   "file_extension": ".py",
   "mimetype": "text/x-python",
   "name": "python",
   "nbconvert_exporter": "python",
   "pygments_lexer": "ipython3",
   "version": "3.7.4"
  },
  "toc": {
   "base_numbering": 1,
   "nav_menu": {},
   "number_sections": true,
   "sideBar": true,
   "skip_h1_title": false,
   "title_cell": "Table of Contents",
   "title_sidebar": "Contents",
   "toc_cell": false,
   "toc_position": {},
   "toc_section_display": true,
   "toc_window_display": false
  }
 },
 "nbformat": 4,
 "nbformat_minor": 4
}
